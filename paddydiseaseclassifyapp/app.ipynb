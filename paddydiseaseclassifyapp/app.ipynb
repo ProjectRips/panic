{
 "cells": [
  {
   "cell_type": "code",
   "execution_count": 32,
   "metadata": {},
   "outputs": [],
   "source": [
    "import torch\n",
    "import os\n",
    "import pickle\n",
    "import PIL\n",
    "from flask import Flask, flash, request, redirect, url_for, render_template\n",
    "from flask_cors import CORS\n",
    "from werkzeug.utils import secure_filename\n",
    "from PIL import Image\n",
    "from fastai.vision.all import *\n"
   ]
  },
  {
   "cell_type": "code",
   "execution_count": 33,
   "metadata": {},
   "outputs": [],
   "source": [
    "model = torch.load('vit_tiny_patch16_224.pkl', pickle_module=pickle)\n"
   ]
  },
  {
   "cell_type": "code",
   "execution_count": 34,
   "metadata": {},
   "outputs": [],
   "source": [
    "app = Flask(__name__)\n",
    "app.secret_key = \"secret\"\n",
    "app.config['UPLOAD_FOLDER'] = 'static/uploads/'"
   ]
  },
  {
   "cell_type": "code",
   "execution_count": 35,
   "metadata": {},
   "outputs": [],
   "source": [
    "ALLOWED_EXTENSIONS = set(['png', 'jpg', 'jpeg'])\n",
    " \n",
    "def allowed_file(filename):\n",
    "    return '.' in filename and filename.rsplit('.', 1)[1].lower() in ALLOWED_EXTENSIONS"
   ]
  },
  {
   "cell_type": "code",
   "execution_count": 36,
   "metadata": {},
   "outputs": [],
   "source": [
    "@app.route('/')\n",
    "def index():\n",
    "    return render_template('home.html')\n",
    " \n",
    "@app.route('/predict')\n",
    "def predict():\n",
    "    return render_template('predict.html')\n",
    "\n",
    "@app.route('/aboutus')\n",
    "def aboutus():\n",
    "    return render_template('aboutus.html')\n",
    "\n",
    "@app.route('/information_blas')\n",
    "def information_blas():\n",
    "    return render_template('information_blas.html')\n",
    "\n",
    "@app.route('/information_blb')\n",
    "def information_blb():\n",
    "    return render_template('information_blb.html')\n",
    "\n",
    "@app.route('/information_bls')\n",
    "def information_bls():\n",
    "    return render_template('information_bls.html')\n",
    "\n",
    "@app.route('/information_bpb')\n",
    "def information_bpb():\n",
    "    return render_template('information_bpb.html')\n",
    "\n",
    "@app.route('/information_brown_spot')\n",
    "def information_brown_spot():\n",
    "    return render_template('information_brown_spot.html')\n",
    "\n",
    "@app.route('/information_bulai')\n",
    "def information_bulai():\n",
    "    return render_template('information_bulai.html')\n",
    "\n",
    "@app.route('/information_hispa')\n",
    "def information_hispa():\n",
    "    return render_template('information_hispa.html')\n",
    "\n",
    "@app.route('/information_sundep')\n",
    "def information_sundep():\n",
    "    return render_template('information_sundep.html')\n",
    "\n",
    "@app.route('/information_tungro')\n",
    "def information_tungro():\n",
    "    return render_template('information_tungro.html')\n",
    "\n",
    "\n",
    "\n",
    "@app.route('/predict', methods=['POST'])\n",
    "def upload_image():\n",
    "    if 'files[]' not in request.files:\n",
    "        flash('No file part')\n",
    "        return redirect(request.url)\n",
    "    \n",
    "    files = request.files.getlist('files[]')\n",
    "    file_names = []\n",
    "    pred_results = []\n",
    "    for file in files:\n",
    "        if file and allowed_file(file.filename):\n",
    "            filename = secure_filename(file.filename)\n",
    "            file_names.append(filename)\n",
    "\n",
    "            # print(__file__)\n",
    "            file.save(os.path.join(app.config['UPLOAD_FOLDER'], filename))\n",
    "            \n",
    "            image = PILImage.create(app.config['UPLOAD_FOLDER'] + filename)\n",
    "\n",
    "            pred, pred_idx, probs = model.predict(image)\n",
    "            prediction = f'{pred}; Probabilitas: {probs[pred_idx]*100:.02f}%'\n",
    "            pred_results.append(prediction)\n",
    "        else:\n",
    "            flash('Allowed image types are -> png, jpg, jpeg, gif')\n",
    "            return redirect(request.url)\n",
    " \n",
    "    return render_template('predict.html', filenames=file_names, predictions=pred_results, zip=zip)\n",
    " \n",
    "@app.route('/display/<filename>')\n",
    "def display_image(filename):\n",
    "    return redirect(url_for('static', filename='uploads/' + filename), code=301)\n",
    "\n"
   ]
  },
  {
   "cell_type": "code",
   "execution_count": 37,
   "metadata": {},
   "outputs": [
    {
     "name": "stdout",
     "output_type": "stream",
     "text": [
      " * Serving Flask app '__main__' (lazy loading)\n",
      " * Environment: production\n",
      "\u001b[31m   WARNING: This is a development server. Do not use it in a production deployment.\u001b[0m\n",
      "\u001b[2m   Use a production WSGI server instead.\u001b[0m\n",
      " * Debug mode: off\n"
     ]
    },
    {
     "name": "stderr",
     "output_type": "stream",
     "text": [
      " * Running on http://127.0.0.1:5000 (Press CTRL+C to quit)\n",
      "127.0.0.1 - - [11/Jan/2023 13:43:58] \"GET / HTTP/1.1\" 200 -\n",
      "127.0.0.1 - - [11/Jan/2023 13:43:58] \"GET /static/styles/style2.css HTTP/1.1\" 200 -\n",
      "127.0.0.1 - - [11/Jan/2023 13:43:58] \"GET /static/styles/fontawesome-free-6.2.1-web/css/all.css HTTP/1.1\" 200 -\n",
      "127.0.0.1 - - [11/Jan/2023 13:43:58] \"GET /static/styles/fontawesome-free-6.2.1-web/js/all.js HTTP/1.1\" 200 -\n",
      "127.0.0.1 - - [11/Jan/2023 13:43:58] \"GET /static/self_photo/logo_2.png HTTP/1.1\" 200 -\n",
      "127.0.0.1 - - [11/Jan/2023 13:43:58] \"GET /static/self_photo/diseases_library_imgs/narrow_brown_spot_carousel.png HTTP/1.1\" 200 -\n",
      "127.0.0.1 - - [11/Jan/2023 13:43:58] \"GET /static/self_photo/diseases_library_imgs/blas_carousel.png HTTP/1.1\" 200 -\n",
      "127.0.0.1 - - [11/Jan/2023 13:43:58] \"GET /static/self_photo/diseases_library_imgs/blb_carousel.png HTTP/1.1\" 200 -\n",
      "127.0.0.1 - - [11/Jan/2023 13:43:58] \"GET /static/self_photo/diseases_library_imgs/bls_carousel.png HTTP/1.1\" 200 -\n",
      "127.0.0.1 - - [11/Jan/2023 13:43:58] \"GET /static/self_photo/diseases_library_imgs/bpb_carousel.png HTTP/1.1\" 200 -\n",
      "127.0.0.1 - - [11/Jan/2023 13:43:58] \"GET /static/self_photo/diseases_library_imgs/bulai_carousel.png HTTP/1.1\" 200 -\n",
      "127.0.0.1 - - [11/Jan/2023 13:43:58] \"GET /static/self_photo/diseases_library_imgs/hispa_carousel.png HTTP/1.1\" 200 -\n",
      "127.0.0.1 - - [11/Jan/2023 13:43:58] \"GET /static/self_photo/diseases_library_imgs/sundep_carousel.png HTTP/1.1\" 200 -\n",
      "127.0.0.1 - - [11/Jan/2023 13:43:58] \"GET /static/styles/fontawesome-free-6.2.1-web/webfonts/fa-brands-400.woff2 HTTP/1.1\" 200 -\n",
      "127.0.0.1 - - [11/Jan/2023 13:43:58] \"GET /static/styles/fontawesome-free-6.2.1-web/webfonts/fa-solid-900.woff2 HTTP/1.1\" 200 -\n",
      "127.0.0.1 - - [11/Jan/2023 13:43:58] \"GET /static/self_photo/home_bg.png HTTP/1.1\" 200 -\n",
      "127.0.0.1 - - [11/Jan/2023 13:43:58] \"GET /static/self_photo/diseases_library_imgs/tungro_carousel.png HTTP/1.1\" 200 -\n",
      "127.0.0.1 - - [11/Jan/2023 13:43:58] \"GET /favicon.ico HTTP/1.1\" 404 -\n"
     ]
    }
   ],
   "source": [
    "if __name__ == \"__main__\":\n",
    "    app.run()"
   ]
  },
  {
   "cell_type": "markdown",
   "metadata": {},
   "source": []
  }
 ],
 "metadata": {
  "kernelspec": {
   "display_name": "Python 3.8.1 64-bit",
   "language": "python",
   "name": "python3"
  },
  "language_info": {
   "codemirror_mode": {
    "name": "ipython",
    "version": 3
   },
   "file_extension": ".py",
   "mimetype": "text/x-python",
   "name": "python",
   "nbconvert_exporter": "python",
   "pygments_lexer": "ipython3",
   "version": "3.8.1"
  },
  "orig_nbformat": 4,
  "vscode": {
   "interpreter": {
    "hash": "e8e103f1427e845b325d32d1d1b7a680a975242c9df6a2c0532359a1c20fb4b0"
   }
  }
 },
 "nbformat": 4,
 "nbformat_minor": 2
}
