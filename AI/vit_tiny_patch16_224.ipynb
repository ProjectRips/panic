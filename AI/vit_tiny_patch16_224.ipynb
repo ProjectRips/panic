{
 "cells": [
  {
   "cell_type": "markdown",
   "metadata": {},
   "source": [
    "training & result"
   ]
  },
  {
   "cell_type": "code",
   "execution_count": 1,
   "metadata": {},
   "outputs": [],
   "source": [
    "from fastkaggle import *\n",
    "import os\n",
    "import timm\n",
    "from fastai.vision.all import *\n",
    "import gc\n",
    "import os\n",
    "from matplotlib import pyplot as plt\n",
    "import cv2\n",
    "set_seed(42)"
   ]
  },
  {
   "cell_type": "code",
   "execution_count": 2,
   "metadata": {},
   "outputs": [],
   "source": [
    "comp = 'data'\n",
    "\n",
    "path = setup_comp(comp, install='\"fastcore>=1.4.5\" \"fastai>=2.7.1\" \"timm>=0.6.2.dev0\"')"
   ]
  },
  {
   "cell_type": "markdown",
   "metadata": {},
   "source": []
  },
  {
   "cell_type": "code",
   "execution_count": 3,
   "metadata": {},
   "outputs": [
    {
     "data": {
      "text/plain": [
       "Path('data')"
      ]
     },
     "execution_count": 3,
     "metadata": {},
     "output_type": "execute_result"
    }
   ],
   "source": [
    "path"
   ]
  },
  {
   "cell_type": "code",
   "execution_count": 4,
   "metadata": {},
   "outputs": [
    {
     "data": {
      "text/plain": [
       "(#2) [Path('data/test'),Path('data/train')]"
      ]
     },
     "execution_count": 4,
     "metadata": {},
     "output_type": "execute_result"
    }
   ],
   "source": [
    "path.ls()"
   ]
  },
  {
   "cell_type": "code",
   "execution_count": 4,
   "metadata": {},
   "outputs": [
    {
     "name": "stdout",
     "output_type": "stream",
     "text": [
      "data\\train\n"
     ]
    }
   ],
   "source": [
    "trn_path = path/'train'\n",
    "files = get_image_files(trn_path)\n",
    "\n",
    "print(trn_path)"
   ]
  },
  {
   "cell_type": "code",
   "execution_count": 6,
   "metadata": {},
   "outputs": [],
   "source": [
    "models = {\n",
    "    'vit_tiny_patch16_224': {\n",
    "        (Resize(480, method='squish'), 224),\n",
    "    },\n",
    "}\n"
   ]
  },
  {
   "cell_type": "code",
   "execution_count": 7,
   "metadata": {},
   "outputs": [],
   "source": [
    "def find_lr(arch, size, item=Resize(480, method='squish'), accum=1, finetune=True, epochs=15):\n",
    "    dls = ImageDataLoaders.from_folder(trn_path, valid_pct=0.25, item_tfms=item,\n",
    "        batch_tfms=aug_transforms(size=size, min_scale=0.75), bs=64//accum)\n",
    "    cbs = GradientAccumulation(64) if accum else []\n",
    "    learn = vision_learner(dls, arch, metrics=[error_rate], cbs=cbs).to_fp16()\n",
    "    lr_valley, lr_slide = learn.lr_find(suggest_funcs=(valley, slide))\n",
    "    \n",
    "    return lr_valley, lr_slide\n"
   ]
  },
  {
   "cell_type": "code",
   "execution_count": 8,
   "metadata": {},
   "outputs": [
    {
     "name": "stdout",
     "output_type": "stream",
     "text": [
      "--- vit_tiny_patch16_224\n",
      "224\n",
      "Resize -- {'size': (480, 480), 'method': 'squish', 'pad_mode': 'reflection', 'resamples': (<Resampling.BILINEAR: 2>, <Resampling.NEAREST: 0>), 'p': 1.0}\n",
      "Due to IPython and Windows limitation, python multiprocessing isn't available now.\n",
      "So `number_workers` is changed to 0 to avoid getting stuck\n"
     ]
    },
    {
     "data": {
      "text/html": [
       "\n",
       "<style>\n",
       "    /* Turns off some styling */\n",
       "    progress {\n",
       "        /* gets rid of default border in Firefox and Opera. */\n",
       "        border: none;\n",
       "        /* Needs to be in here for Safari polyfill so background images work as expected. */\n",
       "        background-size: auto;\n",
       "    }\n",
       "    progress:not([value]), progress:not([value])::-webkit-progress-bar {\n",
       "        background: repeating-linear-gradient(45deg, #7e7e7e, #7e7e7e 10px, #5c5c5c 10px, #5c5c5c 20px);\n",
       "    }\n",
       "    .progress-bar-interrupted, .progress-bar-interrupted::-webkit-progress-bar {\n",
       "        background: #F44336;\n",
       "    }\n",
       "</style>\n"
      ],
      "text/plain": [
       "<IPython.core.display.HTML object>"
      ]
     },
     "metadata": {},
     "output_type": "display_data"
    },
    {
     "data": {
      "text/html": [],
      "text/plain": [
       "<IPython.core.display.HTML object>"
      ]
     },
     "metadata": {},
     "output_type": "display_data"
    },
    {
     "data": {
      "image/png": "[encoded data removed]",
      "text/plain": [
       "<Figure size 432x288 with 1 Axes>"
      ]
     },
     "metadata": {
      "needs_background": "light"
     },
     "output_type": "display_data"
    }
   ],
   "source": [
    "tta_res = []\n",
    "\n",
    "for arch,details in models.items():\n",
    "    for item,size in details:\n",
    "        print('---',arch)\n",
    "        print(size)\n",
    "        print(item.name)\n",
    "        \n",
    "        lr_valley, lr_slide = find_lr(arch, size, item=item, finetune=True, accum=4)\n",
    "    \n",
    "        gc.collect()\n",
    "        torch.cuda.empty_cache()"
   ]
  },
  {
   "cell_type": "code",
   "execution_count": 9,
   "metadata": {},
   "outputs": [],
   "source": [
    "def plot_values(recorder, skip_start=5, with_valid=True):\n",
    "        plt.plot(list(range(skip_start, len(recorder.values))), recorder.values[skip_start:], label='train')\n",
    "        if with_valid:\n",
    "            idx = (np.array(recorder.iters)<skip_start).sum()\n",
    "            valid_col = recorder.metric_names.index('valid_accuracy') - 1 \n",
    "            plt.plot(recorder.iters[idx:], L(recorder.values[idx:]).itemgot(valid_col), label='valid')\n",
    "            plt.figure(1)\n",
    "            plt.legend()"
   ]
  },
  {
   "cell_type": "code",
   "execution_count": 10,
   "metadata": {},
   "outputs": [],
   "source": [
    "def train(arch, size, item=Resize(480, method='squish'), accum=1, finetune=True, epochs=15):\n",
    "    dls = ImageDataLoaders.from_folder(trn_path, valid_pct=0.25, item_tfms=item,\n",
    "                                       batch_tfms=aug_transforms(size=size, min_scale=0.75), bs=64//accum)\n",
    "\n",
    "    cbs = [GradientAccumulation(64) if accum else [], EarlyStoppingCallback(min_delta=1e-4, patience=10), SaveModelCallback(monitor=\"valid_loss\")]\n",
    "    learn = vision_learner(dls, arch, metrics=[accuracy, error_rate], cbs=cbs).to_fp16()\n",
    "    learn.recorder.train_metrics = True\n",
    "    tst_files = get_image_files(path/'test').sorted()\n",
    "    if finetune:\n",
    "        learn.fine_tune(epochs, 0.01)\n",
    "        learn.recorder.plot_loss()\n",
    "        learn.recorder.plot_values()\n",
    "        learn.tta(dl=dls.test_dl(tst_files))\n",
    "    else:\n",
    "        learn.unfreeze()\n",
    "        learn.fit_one_cycle(epochs, 0.01)\n",
    "        learn.recorder.plot_loss()\n",
    "        learn.recorder.plot_values()\n",
    "\n",
    "    return learn, dls\n"
   ]
  },
  {
   "cell_type": "code",
   "execution_count": 11,
   "metadata": {},
   "outputs": [],
   "source": [
    "torch.cuda.empty_cache()"
   ]
  },
  {
   "cell_type": "code",
   "execution_count": 12,
   "metadata": {},
   "outputs": [
    {
     "name": "stdout",
     "output_type": "stream",
     "text": [
      "--- vit_tiny_patch16_224\n",
      "224\n",
      "Resize -- {'size': (480, 480), 'method': 'squish', 'pad_mode': 'reflection', 'resamples': (<Resampling.BILINEAR: 2>, <Resampling.NEAREST: 0>), 'p': 1.0}\n",
      "Due to IPython and Windows limitation, python multiprocessing isn't available now.\n",
      "So `number_workers` is changed to 0 to avoid getting stuck\n"
     ]
    },
    {
     "data": {
      "text/html": [
       "\n",
       "<style>\n",
       "    /* Turns off some styling */\n",
       "    progress {\n",
       "        /* gets rid of default border in Firefox and Opera. */\n",
       "        border: none;\n",
       "        /* Needs to be in here for Safari polyfill so background images work as expected. */\n",
       "        background-size: auto;\n",
       "    }\n",
       "    progress:not([value]), progress:not([value])::-webkit-progress-bar {\n",
       "        background: repeating-linear-gradient(45deg, #7e7e7e, #7e7e7e 10px, #5c5c5c 10px, #5c5c5c 20px);\n",
       "    }\n",
       "    .progress-bar-interrupted, .progress-bar-interrupted::-webkit-progress-bar {\n",
       "        background: #F44336;\n",
       "    }\n",
       "</style>\n"
      ],
      "text/plain": [
       "<IPython.core.display.HTML object>"
      ]
     },
     "metadata": {},
     "output_type": "display_data"
    },
    {
     "data": {
      "text/html": [
       "<table border=\"1\" class=\"dataframe\">\n",
       "  <thead>\n",
       "    <tr style=\"text-align: left;\">\n",
       "      <th>epoch</th>\n",
       "      <th>train_loss</th>\n",
       "      <th>train_accuracy</th>\n",
       "      <th>train_error_rate</th>\n",
       "      <th>valid_loss</th>\n",
       "      <th>valid_accuracy</th>\n",
       "      <th>valid_error_rate</th>\n",
       "      <th>time</th>\n",
       "    </tr>\n",
       "  </thead>\n",
       "  <tbody>\n",
       "    <tr>\n",
       "      <td>0</td>\n",
       "      <td>1.534821</td>\n",
       "      <td>0.431090</td>\n",
       "      <td>0.568910</td>\n",
       "      <td>0.956827</td>\n",
       "      <td>0.674519</td>\n",
       "      <td>0.325481</td>\n",
       "      <td>04:40</td>\n",
       "    </tr>\n",
       "  </tbody>\n",
       "</table>"
      ],
      "text/plain": [
       "<IPython.core.display.HTML object>"
      ]
     },
     "metadata": {},
     "output_type": "display_data"
    },
    {
     "name": "stdout",
     "output_type": "stream",
     "text": [
      "Better model found at epoch 0 with valid_loss value: 0.9568272829055786.\n"
     ]
    },
    {
     "data": {
      "text/html": [
       "\n",
       "<style>\n",
       "    /* Turns off some styling */\n",
       "    progress {\n",
       "        /* gets rid of default border in Firefox and Opera. */\n",
       "        border: none;\n",
       "        /* Needs to be in here for Safari polyfill so background images work as expected. */\n",
       "        background-size: auto;\n",
       "    }\n",
       "    progress:not([value]), progress:not([value])::-webkit-progress-bar {\n",
       "        background: repeating-linear-gradient(45deg, #7e7e7e, #7e7e7e 10px, #5c5c5c 10px, #5c5c5c 20px);\n",
       "    }\n",
       "    .progress-bar-interrupted, .progress-bar-interrupted::-webkit-progress-bar {\n",
       "        background: #F44336;\n",
       "    }\n",
       "</style>\n"
      ],
      "text/plain": [
       "<IPython.core.display.HTML object>"
      ]
     },
     "metadata": {},
     "output_type": "display_data"
    },
    {
     "data": {
      "text/html": [
       "<table border=\"1\" class=\"dataframe\">\n",
       "  <thead>\n",
       "    <tr style=\"text-align: left;\">\n",
       "      <th>epoch</th>\n",
       "      <th>train_loss</th>\n",
       "      <th>train_accuracy</th>\n",
       "      <th>train_error_rate</th>\n",
       "      <th>valid_loss</th>\n",
       "      <th>valid_accuracy</th>\n",
       "      <th>valid_error_rate</th>\n",
       "      <th>time</th>\n",
       "    </tr>\n",
       "  </thead>\n",
       "  <tbody>\n",
       "    <tr>\n",
       "      <td>0</td>\n",
       "      <td>1.004124</td>\n",
       "      <td>0.641026</td>\n",
       "      <td>0.358974</td>\n",
       "      <td>0.604971</td>\n",
       "      <td>0.800000</td>\n",
       "      <td>0.200000</td>\n",
       "      <td>05:00</td>\n",
       "    </tr>\n",
       "    <tr>\n",
       "      <td>1</td>\n",
       "      <td>0.884476</td>\n",
       "      <td>0.713301</td>\n",
       "      <td>0.286699</td>\n",
       "      <td>0.500447</td>\n",
       "      <td>0.831250</td>\n",
       "      <td>0.168750</td>\n",
       "      <td>04:58</td>\n",
       "    </tr>\n",
       "    <tr>\n",
       "      <td>2</td>\n",
       "      <td>0.692880</td>\n",
       "      <td>0.762660</td>\n",
       "      <td>0.237340</td>\n",
       "      <td>0.430160</td>\n",
       "      <td>0.849519</td>\n",
       "      <td>0.150481</td>\n",
       "      <td>04:59</td>\n",
       "    </tr>\n",
       "    <tr>\n",
       "      <td>3</td>\n",
       "      <td>0.595812</td>\n",
       "      <td>0.797756</td>\n",
       "      <td>0.202244</td>\n",
       "      <td>0.371278</td>\n",
       "      <td>0.882212</td>\n",
       "      <td>0.117788</td>\n",
       "      <td>05:00</td>\n",
       "    </tr>\n",
       "    <tr>\n",
       "      <td>4</td>\n",
       "      <td>0.466475</td>\n",
       "      <td>0.817788</td>\n",
       "      <td>0.182212</td>\n",
       "      <td>0.326835</td>\n",
       "      <td>0.890865</td>\n",
       "      <td>0.109135</td>\n",
       "      <td>05:00</td>\n",
       "    </tr>\n",
       "    <tr>\n",
       "      <td>5</td>\n",
       "      <td>0.484896</td>\n",
       "      <td>0.840224</td>\n",
       "      <td>0.159776</td>\n",
       "      <td>0.332786</td>\n",
       "      <td>0.887019</td>\n",
       "      <td>0.112981</td>\n",
       "      <td>05:00</td>\n",
       "    </tr>\n",
       "    <tr>\n",
       "      <td>6</td>\n",
       "      <td>0.497485</td>\n",
       "      <td>0.845673</td>\n",
       "      <td>0.154327</td>\n",
       "      <td>0.267916</td>\n",
       "      <td>0.913942</td>\n",
       "      <td>0.086058</td>\n",
       "      <td>04:57</td>\n",
       "    </tr>\n",
       "    <tr>\n",
       "      <td>7</td>\n",
       "      <td>0.414820</td>\n",
       "      <td>0.869231</td>\n",
       "      <td>0.130769</td>\n",
       "      <td>0.263045</td>\n",
       "      <td>0.917788</td>\n",
       "      <td>0.082212</td>\n",
       "      <td>05:00</td>\n",
       "    </tr>\n",
       "    <tr>\n",
       "      <td>8</td>\n",
       "      <td>0.354712</td>\n",
       "      <td>0.876282</td>\n",
       "      <td>0.123718</td>\n",
       "      <td>0.279366</td>\n",
       "      <td>0.909615</td>\n",
       "      <td>0.090385</td>\n",
       "      <td>05:34</td>\n",
       "    </tr>\n",
       "    <tr>\n",
       "      <td>9</td>\n",
       "      <td>0.355567</td>\n",
       "      <td>0.883013</td>\n",
       "      <td>0.116987</td>\n",
       "      <td>0.298974</td>\n",
       "      <td>0.911538</td>\n",
       "      <td>0.088462</td>\n",
       "      <td>05:43</td>\n",
       "    </tr>\n",
       "    <tr>\n",
       "      <td>10</td>\n",
       "      <td>0.361851</td>\n",
       "      <td>0.889904</td>\n",
       "      <td>0.110096</td>\n",
       "      <td>0.230792</td>\n",
       "      <td>0.932212</td>\n",
       "      <td>0.067788</td>\n",
       "      <td>05:36</td>\n",
       "    </tr>\n",
       "    <tr>\n",
       "      <td>11</td>\n",
       "      <td>0.336846</td>\n",
       "      <td>0.909135</td>\n",
       "      <td>0.090865</td>\n",
       "      <td>0.257714</td>\n",
       "      <td>0.928846</td>\n",
       "      <td>0.071154</td>\n",
       "      <td>05:32</td>\n",
       "    </tr>\n",
       "    <tr>\n",
       "      <td>12</td>\n",
       "      <td>0.233676</td>\n",
       "      <td>0.916987</td>\n",
       "      <td>0.083013</td>\n",
       "      <td>0.236042</td>\n",
       "      <td>0.933173</td>\n",
       "      <td>0.066827</td>\n",
       "      <td>05:48</td>\n",
       "    </tr>\n",
       "    <tr>\n",
       "      <td>13</td>\n",
       "      <td>0.240070</td>\n",
       "      <td>0.915064</td>\n",
       "      <td>0.084936</td>\n",
       "      <td>0.259497</td>\n",
       "      <td>0.930769</td>\n",
       "      <td>0.069231</td>\n",
       "      <td>05:34</td>\n",
       "    </tr>\n",
       "    <tr>\n",
       "      <td>14</td>\n",
       "      <td>0.235532</td>\n",
       "      <td>0.922115</td>\n",
       "      <td>0.077885</td>\n",
       "      <td>0.222047</td>\n",
       "      <td>0.939904</td>\n",
       "      <td>0.060096</td>\n",
       "      <td>05:00</td>\n",
       "    </tr>\n",
       "    <tr>\n",
       "      <td>15</td>\n",
       "      <td>0.203654</td>\n",
       "      <td>0.938622</td>\n",
       "      <td>0.061378</td>\n",
       "      <td>0.189834</td>\n",
       "      <td>0.944231</td>\n",
       "      <td>0.055769</td>\n",
       "      <td>04:50</td>\n",
       "    </tr>\n",
       "    <tr>\n",
       "      <td>16</td>\n",
       "      <td>0.209580</td>\n",
       "      <td>0.937180</td>\n",
       "      <td>0.062821</td>\n",
       "      <td>0.193974</td>\n",
       "      <td>0.946154</td>\n",
       "      <td>0.053846</td>\n",
       "      <td>04:50</td>\n",
       "    </tr>\n",
       "    <tr>\n",
       "      <td>17</td>\n",
       "      <td>0.198329</td>\n",
       "      <td>0.950160</td>\n",
       "      <td>0.049840</td>\n",
       "      <td>0.217114</td>\n",
       "      <td>0.947115</td>\n",
       "      <td>0.052885</td>\n",
       "      <td>04:51</td>\n",
       "    </tr>\n",
       "    <tr>\n",
       "      <td>18</td>\n",
       "      <td>0.158140</td>\n",
       "      <td>0.946314</td>\n",
       "      <td>0.053686</td>\n",
       "      <td>0.160986</td>\n",
       "      <td>0.956250</td>\n",
       "      <td>0.043750</td>\n",
       "      <td>04:51</td>\n",
       "    </tr>\n",
       "    <tr>\n",
       "      <td>19</td>\n",
       "      <td>0.187991</td>\n",
       "      <td>0.954006</td>\n",
       "      <td>0.045994</td>\n",
       "      <td>0.197648</td>\n",
       "      <td>0.947596</td>\n",
       "      <td>0.052404</td>\n",
       "      <td>04:51</td>\n",
       "    </tr>\n",
       "    <tr>\n",
       "      <td>20</td>\n",
       "      <td>0.165395</td>\n",
       "      <td>0.958494</td>\n",
       "      <td>0.041506</td>\n",
       "      <td>0.183571</td>\n",
       "      <td>0.950962</td>\n",
       "      <td>0.049038</td>\n",
       "      <td>04:51</td>\n",
       "    </tr>\n",
       "    <tr>\n",
       "      <td>21</td>\n",
       "      <td>0.126034</td>\n",
       "      <td>0.956090</td>\n",
       "      <td>0.043910</td>\n",
       "      <td>0.170001</td>\n",
       "      <td>0.954327</td>\n",
       "      <td>0.045673</td>\n",
       "      <td>04:50</td>\n",
       "    </tr>\n",
       "    <tr>\n",
       "      <td>22</td>\n",
       "      <td>0.124832</td>\n",
       "      <td>0.967949</td>\n",
       "      <td>0.032051</td>\n",
       "      <td>0.137371</td>\n",
       "      <td>0.963942</td>\n",
       "      <td>0.036058</td>\n",
       "      <td>04:51</td>\n",
       "    </tr>\n",
       "    <tr>\n",
       "      <td>23</td>\n",
       "      <td>0.122722</td>\n",
       "      <td>0.965064</td>\n",
       "      <td>0.034936</td>\n",
       "      <td>0.168002</td>\n",
       "      <td>0.957212</td>\n",
       "      <td>0.042788</td>\n",
       "      <td>04:51</td>\n",
       "    </tr>\n",
       "    <tr>\n",
       "      <td>24</td>\n",
       "      <td>0.076882</td>\n",
       "      <td>0.971154</td>\n",
       "      <td>0.028846</td>\n",
       "      <td>0.131107</td>\n",
       "      <td>0.969712</td>\n",
       "      <td>0.030288</td>\n",
       "      <td>04:51</td>\n",
       "    </tr>\n",
       "    <tr>\n",
       "      <td>25</td>\n",
       "      <td>0.078493</td>\n",
       "      <td>0.973718</td>\n",
       "      <td>0.026282</td>\n",
       "      <td>0.170927</td>\n",
       "      <td>0.958654</td>\n",
       "      <td>0.041346</td>\n",
       "      <td>04:51</td>\n",
       "    </tr>\n",
       "    <tr>\n",
       "      <td>26</td>\n",
       "      <td>0.065013</td>\n",
       "      <td>0.974840</td>\n",
       "      <td>0.025160</td>\n",
       "      <td>0.137909</td>\n",
       "      <td>0.971154</td>\n",
       "      <td>0.028846</td>\n",
       "      <td>04:51</td>\n",
       "    </tr>\n",
       "    <tr>\n",
       "      <td>27</td>\n",
       "      <td>0.074232</td>\n",
       "      <td>0.979487</td>\n",
       "      <td>0.020513</td>\n",
       "      <td>0.162973</td>\n",
       "      <td>0.961538</td>\n",
       "      <td>0.038462</td>\n",
       "      <td>04:51</td>\n",
       "    </tr>\n",
       "    <tr>\n",
       "      <td>28</td>\n",
       "      <td>0.044685</td>\n",
       "      <td>0.980128</td>\n",
       "      <td>0.019872</td>\n",
       "      <td>0.138488</td>\n",
       "      <td>0.967788</td>\n",
       "      <td>0.032212</td>\n",
       "      <td>04:51</td>\n",
       "    </tr>\n",
       "    <tr>\n",
       "      <td>29</td>\n",
       "      <td>0.064912</td>\n",
       "      <td>0.981250</td>\n",
       "      <td>0.018750</td>\n",
       "      <td>0.137323</td>\n",
       "      <td>0.971154</td>\n",
       "      <td>0.028846</td>\n",
       "      <td>04:51</td>\n",
       "    </tr>\n",
       "    <tr>\n",
       "      <td>30</td>\n",
       "      <td>0.044234</td>\n",
       "      <td>0.984135</td>\n",
       "      <td>0.015865</td>\n",
       "      <td>0.142985</td>\n",
       "      <td>0.968750</td>\n",
       "      <td>0.031250</td>\n",
       "      <td>04:51</td>\n",
       "    </tr>\n",
       "    <tr>\n",
       "      <td>31</td>\n",
       "      <td>0.040518</td>\n",
       "      <td>0.984295</td>\n",
       "      <td>0.015705</td>\n",
       "      <td>0.137847</td>\n",
       "      <td>0.970192</td>\n",
       "      <td>0.029808</td>\n",
       "      <td>04:51</td>\n",
       "    </tr>\n",
       "    <tr>\n",
       "      <td>32</td>\n",
       "      <td>0.039671</td>\n",
       "      <td>0.986378</td>\n",
       "      <td>0.013622</td>\n",
       "      <td>0.119151</td>\n",
       "      <td>0.973558</td>\n",
       "      <td>0.026442</td>\n",
       "      <td>04:51</td>\n",
       "    </tr>\n",
       "    <tr>\n",
       "      <td>33</td>\n",
       "      <td>0.051790</td>\n",
       "      <td>0.986378</td>\n",
       "      <td>0.013622</td>\n",
       "      <td>0.125225</td>\n",
       "      <td>0.973558</td>\n",
       "      <td>0.026442</td>\n",
       "      <td>04:51</td>\n",
       "    </tr>\n",
       "    <tr>\n",
       "      <td>34</td>\n",
       "      <td>0.032449</td>\n",
       "      <td>0.988141</td>\n",
       "      <td>0.011859</td>\n",
       "      <td>0.116197</td>\n",
       "      <td>0.975481</td>\n",
       "      <td>0.024519</td>\n",
       "      <td>04:51</td>\n",
       "    </tr>\n",
       "    <tr>\n",
       "      <td>35</td>\n",
       "      <td>0.028062</td>\n",
       "      <td>0.989744</td>\n",
       "      <td>0.010256</td>\n",
       "      <td>0.113177</td>\n",
       "      <td>0.975962</td>\n",
       "      <td>0.024038</td>\n",
       "      <td>04:51</td>\n",
       "    </tr>\n",
       "    <tr>\n",
       "      <td>36</td>\n",
       "      <td>0.039890</td>\n",
       "      <td>0.988942</td>\n",
       "      <td>0.011058</td>\n",
       "      <td>0.112997</td>\n",
       "      <td>0.975481</td>\n",
       "      <td>0.024519</td>\n",
       "      <td>04:51</td>\n",
       "    </tr>\n",
       "    <tr>\n",
       "      <td>37</td>\n",
       "      <td>0.024665</td>\n",
       "      <td>0.990865</td>\n",
       "      <td>0.009135</td>\n",
       "      <td>0.112831</td>\n",
       "      <td>0.975962</td>\n",
       "      <td>0.024038</td>\n",
       "      <td>04:51</td>\n",
       "    </tr>\n",
       "    <tr>\n",
       "      <td>38</td>\n",
       "      <td>0.030932</td>\n",
       "      <td>0.989423</td>\n",
       "      <td>0.010577</td>\n",
       "      <td>0.113192</td>\n",
       "      <td>0.975000</td>\n",
       "      <td>0.025000</td>\n",
       "      <td>04:51</td>\n",
       "    </tr>\n",
       "    <tr>\n",
       "      <td>39</td>\n",
       "      <td>0.030614</td>\n",
       "      <td>0.991506</td>\n",
       "      <td>0.008494</td>\n",
       "      <td>0.113226</td>\n",
       "      <td>0.975481</td>\n",
       "      <td>0.024519</td>\n",
       "      <td>04:51</td>\n",
       "    </tr>\n",
       "  </tbody>\n",
       "</table>"
      ],
      "text/plain": [
       "<IPython.core.display.HTML object>"
      ]
     },
     "metadata": {},
     "output_type": "display_data"
    },
    {
     "name": "stdout",
     "output_type": "stream",
     "text": [
      "Better model found at epoch 0 with valid_loss value: 0.6049708724021912.\n",
      "Better model found at epoch 1 with valid_loss value: 0.5004472136497498.\n",
      "Better model found at epoch 2 with valid_loss value: 0.4301595687866211.\n",
      "Better model found at epoch 3 with valid_loss value: 0.3712781071662903.\n",
      "Better model found at epoch 4 with valid_loss value: 0.32683509588241577.\n",
      "Better model found at epoch 6 with valid_loss value: 0.2679162621498108.\n",
      "Better model found at epoch 7 with valid_loss value: 0.26304519176483154.\n",
      "Better model found at epoch 10 with valid_loss value: 0.23079173266887665.\n",
      "Better model found at epoch 14 with valid_loss value: 0.22204728424549103.\n",
      "Better model found at epoch 15 with valid_loss value: 0.18983350694179535.\n",
      "Better model found at epoch 18 with valid_loss value: 0.16098564863204956.\n",
      "Better model found at epoch 22 with valid_loss value: 0.137371227145195.\n",
      "Better model found at epoch 24 with valid_loss value: 0.13110727071762085.\n",
      "Better model found at epoch 32 with valid_loss value: 0.11915075033903122.\n",
      "Better model found at epoch 34 with valid_loss value: 0.11619703471660614.\n",
      "Better model found at epoch 35 with valid_loss value: 0.11317650973796844.\n",
      "Better model found at epoch 36 with valid_loss value: 0.11299663037061691.\n",
      "Better model found at epoch 37 with valid_loss value: 0.11283081024885178.\n"
     ]
    },
    {
     "data": {
      "text/html": [
       "\n",
       "<style>\n",
       "    /* Turns off some styling */\n",
       "    progress {\n",
       "        /* gets rid of default border in Firefox and Opera. */\n",
       "        border: none;\n",
       "        /* Needs to be in here for Safari polyfill so background images work as expected. */\n",
       "        background-size: auto;\n",
       "    }\n",
       "    progress:not([value]), progress:not([value])::-webkit-progress-bar {\n",
       "        background: repeating-linear-gradient(45deg, #7e7e7e, #7e7e7e 10px, #5c5c5c 10px, #5c5c5c 20px);\n",
       "    }\n",
       "    .progress-bar-interrupted, .progress-bar-interrupted::-webkit-progress-bar {\n",
       "        background: #F44336;\n",
       "    }\n",
       "</style>\n"
      ],
      "text/plain": [
       "<IPython.core.display.HTML object>"
      ]
     },
     "metadata": {},
     "output_type": "display_data"
    },
    {
     "data": {
      "text/html": [
       "\n",
       "    <div>\n",
       "      <progress value='0' class='' max='40' style='width:300px; height:20px; vertical-align: middle;'></progress>\n",
       "      \n",
       "    </div>\n",
       "    \n"
      ],
      "text/plain": [
       "<IPython.core.display.HTML object>"
      ]
     },
     "metadata": {},
     "output_type": "display_data"
    },
    {
     "data": {
      "text/html": [
       "\n",
       "<style>\n",
       "    /* Turns off some styling */\n",
       "    progress {\n",
       "        /* gets rid of default border in Firefox and Opera. */\n",
       "        border: none;\n",
       "        /* Needs to be in here for Safari polyfill so background images work as expected. */\n",
       "        background-size: auto;\n",
       "    }\n",
       "    progress:not([value]), progress:not([value])::-webkit-progress-bar {\n",
       "        background: repeating-linear-gradient(45deg, #7e7e7e, #7e7e7e 10px, #5c5c5c 10px, #5c5c5c 20px);\n",
       "    }\n",
       "    .progress-bar-interrupted, .progress-bar-interrupted::-webkit-progress-bar {\n",
       "        background: #F44336;\n",
       "    }\n",
       "</style>\n"
      ],
      "text/plain": [
       "<IPython.core.display.HTML object>"
      ]
     },
     "metadata": {},
     "output_type": "display_data"
    },
    {
     "data": {
      "text/html": [],
      "text/plain": [
       "<IPython.core.display.HTML object>"
      ]
     },
     "metadata": {},
     "output_type": "display_data"
    },
    {
     "data": {
      "image/png": "[encoded data removed]",
      "text/plain": [
       "<Figure size 432x288 with 1 Axes>"
      ]
     },
     "metadata": {
      "needs_background": "light"
     },
     "output_type": "display_data"
    },
    {
     "data": {
      "image/png": "[encoded data removed]",
      "text/plain": [
       "<Figure size 432x288 with 1 Axes>"
      ]
     },
     "metadata": {
      "needs_background": "light"
     },
     "output_type": "display_data"
    }
   ],
   "source": [
    "for arch,details in models.items():\n",
    "    for item,size in details:\n",
    "        print('---',arch)\n",
    "        print(size)\n",
    "        print(item.name)\n",
    "        \n",
    "        learn, dls = train(arch, size, item=item, finetune=True, accum=4, epochs=40)\n",
    "        learn.save(arch)\n",
    "        learn.export(\"models/\"+arch+\".pkl\")\n",
    "\n",
    "        \n",
    "        gc.collect()\n",
    "        torch.cuda.empty_cache()"
   ]
  },
  {
   "cell_type": "code",
   "execution_count": 12,
   "metadata": {},
   "outputs": [
    {
     "name": "stdout",
     "output_type": "stream",
     "text": [
      "--- vit_tiny_patch16_224\n",
      "224\n",
      "Resize -- {'size': (480, 480), 'method': 'squish', 'pad_mode': 'reflection', 'resamples': (<Resampling.BILINEAR: 2>, <Resampling.NEAREST: 0>), 'p': 1.0}\n",
      "Due to IPython and Windows limitation, python multiprocessing isn't available now.\n",
      "So `number_workers` is changed to 0 to avoid getting stuck\n"
     ]
    }
   ],
   "source": [
    "models = {\n",
    "    'vit_tiny_patch16_224': {\n",
    "        (Resize(480, method='squish'), 224),\n",
    "    },\n",
    "}\n",
    "\n",
    "def train(arch, size, item=Resize(480, method='squish'), accum=1, finetune=True):\n",
    "    dls = ImageDataLoaders.from_folder(trn_path, valid_pct=0.25, item_tfms=item,\n",
    "                                       batch_tfms=aug_transforms(size=size, min_scale=0.75), bs=64//accum)\n",
    "\n",
    "    cbs = [GradientAccumulation(64) if accum else [], EarlyStoppingCallback(min_delta=1e-4, patience=10), SaveModelCallback(monitor=\"valid_loss\")]\n",
    "    learn = vision_learner(dls, arch, metrics=[accuracy, error_rate], cbs=cbs).to_fp16()\n",
    "    return learn, dls\n",
    "\n",
    "for arch,details in models.items():\n",
    "    for item,size in details:\n",
    "        print('---',arch)\n",
    "        print(size)\n",
    "        print(item.name)\n",
    "        \n",
    "        learn, dls = train(arch, size, item=item, finetune=True, accum=4)\n",
    "    \n",
    "        gc.collect()\n",
    "        torch.cuda.empty_cache()\n"
   ]
  },
  {
   "cell_type": "code",
   "execution_count": 13,
   "metadata": {},
   "outputs": [],
   "source": [
    "from fastai.text.all import * \n",
    "learner= learn.load(\"vit_tiny_patch16_224\")"
   ]
  },
  {
   "cell_type": "code",
   "execution_count": 15,
   "metadata": {},
   "outputs": [
    {
     "data": {
      "text/html": [
       "\n",
       "<style>\n",
       "    /* Turns off some styling */\n",
       "    progress {\n",
       "        /* gets rid of default border in Firefox and Opera. */\n",
       "        border: none;\n",
       "        /* Needs to be in here for Safari polyfill so background images work as expected. */\n",
       "        background-size: auto;\n",
       "    }\n",
       "    progress:not([value]), progress:not([value])::-webkit-progress-bar {\n",
       "        background: repeating-linear-gradient(45deg, #7e7e7e, #7e7e7e 10px, #5c5c5c 10px, #5c5c5c 20px);\n",
       "    }\n",
       "    .progress-bar-interrupted, .progress-bar-interrupted::-webkit-progress-bar {\n",
       "        background: #F44336;\n",
       "    }\n",
       "</style>\n"
      ],
      "text/plain": [
       "<IPython.core.display.HTML object>"
      ]
     },
     "metadata": {},
     "output_type": "display_data"
    },
    {
     "data": {
      "text/html": [],
      "text/plain": [
       "<IPython.core.display.HTML object>"
      ]
     },
     "metadata": {},
     "output_type": "display_data"
    }
   ],
   "source": [
    "interpret = ClassificationInterpretation.from_learner(learner)"
   ]
  },
  {
   "cell_type": "code",
   "execution_count": 16,
   "metadata": {},
   "outputs": [
    {
     "data": {
      "text/html": [
       "\n",
       "<style>\n",
       "    /* Turns off some styling */\n",
       "    progress {\n",
       "        /* gets rid of default border in Firefox and Opera. */\n",
       "        border: none;\n",
       "        /* Needs to be in here for Safari polyfill so background images work as expected. */\n",
       "        background-size: auto;\n",
       "    }\n",
       "    progress:not([value]), progress:not([value])::-webkit-progress-bar {\n",
       "        background: repeating-linear-gradient(45deg, #7e7e7e, #7e7e7e 10px, #5c5c5c 10px, #5c5c5c 20px);\n",
       "    }\n",
       "    .progress-bar-interrupted, .progress-bar-interrupted::-webkit-progress-bar {\n",
       "        background: #F44336;\n",
       "    }\n",
       "</style>\n"
      ],
      "text/plain": [
       "<IPython.core.display.HTML object>"
      ]
     },
     "metadata": {},
     "output_type": "display_data"
    },
    {
     "data": {
      "text/html": [],
      "text/plain": [
       "<IPython.core.display.HTML object>"
      ]
     },
     "metadata": {},
     "output_type": "display_data"
    },
    {
     "name": "stdout",
     "output_type": "stream",
     "text": [
      "                          precision    recall  f1-score   support\n",
      "\n",
      "   bacterial_leaf_blight       0.99      0.96      0.97        97\n",
      "   bacterial_leaf_streak       0.98      0.93      0.95        67\n",
      "bacterial_panicle_blight       0.97      0.94      0.95        62\n",
      "                   blast       0.97      0.98      0.98       340\n",
      "              brown_spot       0.95      0.98      0.97       190\n",
      "              dead_heart       1.00      0.99      1.00       318\n",
      "            downy_mildew       0.96      0.92      0.94       129\n",
      "                   hispa       0.96      0.99      0.98       304\n",
      "                  normal       0.98      0.99      0.99       349\n",
      "                  tungro       0.99      0.96      0.97       224\n",
      "\n",
      "                accuracy                           0.98      2080\n",
      "               macro avg       0.98      0.96      0.97      2080\n",
      "            weighted avg       0.98      0.98      0.98      2080\n",
      "\n"
     ]
    }
   ],
   "source": [
    "interpret.print_classification_report()"
   ]
  },
  {
   "cell_type": "code",
   "execution_count": 17,
   "metadata": {},
   "outputs": [
    {
     "data": {
      "text/html": [
       "\n",
       "<style>\n",
       "    /* Turns off some styling */\n",
       "    progress {\n",
       "        /* gets rid of default border in Firefox and Opera. */\n",
       "        border: none;\n",
       "        /* Needs to be in here for Safari polyfill so background images work as expected. */\n",
       "        background-size: auto;\n",
       "    }\n",
       "    progress:not([value]), progress:not([value])::-webkit-progress-bar {\n",
       "        background: repeating-linear-gradient(45deg, #7e7e7e, #7e7e7e 10px, #5c5c5c 10px, #5c5c5c 20px);\n",
       "    }\n",
       "    .progress-bar-interrupted, .progress-bar-interrupted::-webkit-progress-bar {\n",
       "        background: #F44336;\n",
       "    }\n",
       "</style>\n"
      ],
      "text/plain": [
       "<IPython.core.display.HTML object>"
      ]
     },
     "metadata": {},
     "output_type": "display_data"
    },
    {
     "data": {
      "text/html": [],
      "text/plain": [
       "<IPython.core.display.HTML object>"
      ]
     },
     "metadata": {},
     "output_type": "display_data"
    },
    {
     "data": {
      "image/png": "[encoded data removed]",
      "text/plain": [
       "<Figure size 432x288 with 1 Axes>"
      ]
     },
     "metadata": {
      "needs_background": "light"
     },
     "output_type": "display_data"
    }
   ],
   "source": [
    "interpret.plot_confusion_matrix(title=\"vit_tiny_patch16_224\")"
   ]
  },
  {
   "cell_type": "code",
   "execution_count": 7,
   "metadata": {},
   "outputs": [
    {
     "name": "stdout",
     "output_type": "stream",
     "text": [
      "Due to IPython and Windows limitation, python multiprocessing isn't available now.\n",
      "So `number_workers` is changed to 0 to avoid getting stuck\n"
     ]
    }
   ],
   "source": [
    "for arch,details in models.items():\n",
    "    for item,size in details:        \n",
    "        dls = ImageDataLoaders.from_folder(trn_path, valid_pct=0.25, item_tfms=item,\n",
    "                batch_tfms=aug_transforms(size=size, min_scale=0.75), bs=32//4)\n",
    "        tst_files = get_image_files(path/'test').sorted()\n",
    "        tst_dl = dls.test_dl(tst_files, with_labels=True, num_workers=0)\n",
    "        tst_dl"
   ]
  },
  {
   "cell_type": "code",
   "execution_count": 14,
   "metadata": {},
   "outputs": [
    {
     "data": {
      "text/html": [
       "\n",
       "<style>\n",
       "    /* Turns off some styling */\n",
       "    progress {\n",
       "        /* gets rid of default border in Firefox and Opera. */\n",
       "        border: none;\n",
       "        /* Needs to be in here for Safari polyfill so background images work as expected. */\n",
       "        background-size: auto;\n",
       "    }\n",
       "    progress:not([value]), progress:not([value])::-webkit-progress-bar {\n",
       "        background: repeating-linear-gradient(45deg, #7e7e7e, #7e7e7e 10px, #5c5c5c 10px, #5c5c5c 20px);\n",
       "    }\n",
       "    .progress-bar-interrupted, .progress-bar-interrupted::-webkit-progress-bar {\n",
       "        background: #F44336;\n",
       "    }\n",
       "</style>\n"
      ],
      "text/plain": [
       "<IPython.core.display.HTML object>"
      ]
     },
     "metadata": {},
     "output_type": "display_data"
    },
    {
     "data": {
      "text/html": [],
      "text/plain": [
       "<IPython.core.display.HTML object>"
      ]
     },
     "metadata": {},
     "output_type": "display_data"
    },
    {
     "name": "stdout",
     "output_type": "stream",
     "text": [
      "The accuracy is 0.8632437586784363 %.\n"
     ]
    }
   ],
   "source": [
    "acc = accuracy(*learner.get_preds(dl=tst_dl))\n",
    "print('The accuracy is {0} %.'.format(acc))"
   ]
  }
 ],
 "metadata": {
  "kernelspec": {
   "display_name": "Python 3.8.1 64-bit",
   "language": "python",
   "name": "python3"
  },
  "language_info": {
   "codemirror_mode": {
    "name": "ipython",
    "version": 3
   },
   "file_extension": ".py",
   "mimetype": "text/x-python",
   "name": "python",
   "nbconvert_exporter": "python",
   "pygments_lexer": "ipython3",
   "version": "3.8.1 (tags/v3.8.1:1b293b6, Dec 18 2019, 23:11:46) [MSC v.1916 64 bit (AMD64)]"
  },
  "orig_nbformat": 4,
  "vscode": {
   "interpreter": {
    "hash": "e8e103f1427e845b325d32d1d1b7a680a975242c9df6a2c0532359a1c20fb4b0"
   }
  }
 },
 "nbformat": 4,
 "nbformat_minor": 2
}
