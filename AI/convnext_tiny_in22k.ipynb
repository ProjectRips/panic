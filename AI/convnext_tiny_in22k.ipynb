{
 "cells": [
  {
   "cell_type": "markdown",
   "metadata": {},
   "source": [
    "training & result"
   ]
  },
  {
   "cell_type": "code",
   "execution_count": 1,
   "metadata": {},
   "outputs": [],
   "source": [
    "from fastkaggle import *\n",
    "import os\n",
    "import timm\n",
    "from fastai.vision.all import *\n",
    "import gc\n",
    "import os\n",
    "from matplotlib import pyplot as plt\n",
    "import cv2\n",
    "set_seed(42)"
   ]
  },
  {
   "cell_type": "code",
   "execution_count": 2,
   "metadata": {},
   "outputs": [],
   "source": [
    "comp = 'data'\n",
    "\n",
    "path = setup_comp(comp, install='\"fastcore>=1.4.5\" \"fastai>=2.7.1\" \"timm>=0.6.2.dev0\"')"
   ]
  },
  {
   "cell_type": "markdown",
   "metadata": {},
   "source": []
  },
  {
   "cell_type": "code",
   "execution_count": 3,
   "metadata": {},
   "outputs": [
    {
     "data": {
      "text/plain": [
       "Path('data')"
      ]
     },
     "execution_count": 3,
     "metadata": {},
     "output_type": "execute_result"
    }
   ],
   "source": [
    "path"
   ]
  },
  {
   "cell_type": "code",
   "execution_count": 4,
   "metadata": {},
   "outputs": [
    {
     "data": {
      "text/plain": [
       "(#2) [Path('data/test'),Path('data/train')]"
      ]
     },
     "execution_count": 4,
     "metadata": {},
     "output_type": "execute_result"
    }
   ],
   "source": [
    "path.ls()"
   ]
  },
  {
   "cell_type": "code",
   "execution_count": 3,
   "metadata": {},
   "outputs": [
    {
     "name": "stdout",
     "output_type": "stream",
     "text": [
      "data\\train\n"
     ]
    }
   ],
   "source": [
    "trn_path = path/'train'\n",
    "files = get_image_files(trn_path)\n",
    "\n",
    "print(trn_path)"
   ]
  },
  {
   "cell_type": "code",
   "execution_count": 6,
   "metadata": {},
   "outputs": [],
   "source": [
    "models = {\n",
    "    'convnext_tiny_in22k': {\n",
    "        (Resize(480, method='squish'), 224),\n",
    "    },\n",
    "}\n"
   ]
  },
  {
   "cell_type": "code",
   "execution_count": 7,
   "metadata": {},
   "outputs": [],
   "source": [
    "def find_lr(arch, size, item=Resize(480, method='squish'), accum=1, finetune=True, epochs=15):\n",
    "    dls = ImageDataLoaders.from_folder(trn_path, valid_pct=0.25, item_tfms=item,\n",
    "        batch_tfms=aug_transforms(size=size, min_scale=0.75), bs=64//accum)\n",
    "    cbs = GradientAccumulation(64) if accum else []\n",
    "    learn = vision_learner(dls, arch, metrics=[error_rate], cbs=cbs).to_fp16()\n",
    "    lr_valley, lr_slide = learn.lr_find(suggest_funcs=(valley, slide))\n",
    "    \n",
    "    return lr_valley, lr_slide\n"
   ]
  },
  {
   "cell_type": "code",
   "execution_count": 8,
   "metadata": {},
   "outputs": [
    {
     "name": "stdout",
     "output_type": "stream",
     "text": [
      "--- convnext_tiny_in22k\n",
      "224\n",
      "Resize -- {'size': (480, 480), 'method': 'squish', 'pad_mode': 'reflection', 'resamples': (<Resampling.BILINEAR: 2>, <Resampling.NEAREST: 0>), 'p': 1.0}\n",
      "Due to IPython and Windows limitation, python multiprocessing isn't available now.\n",
      "So `number_workers` is changed to 0 to avoid getting stuck\n"
     ]
    },
    {
     "data": {
      "text/html": [
       "\n",
       "<style>\n",
       "    /* Turns off some styling */\n",
       "    progress {\n",
       "        /* gets rid of default border in Firefox and Opera. */\n",
       "        border: none;\n",
       "        /* Needs to be in here for Safari polyfill so background images work as expected. */\n",
       "        background-size: auto;\n",
       "    }\n",
       "    progress:not([value]), progress:not([value])::-webkit-progress-bar {\n",
       "        background: repeating-linear-gradient(45deg, #7e7e7e, #7e7e7e 10px, #5c5c5c 10px, #5c5c5c 20px);\n",
       "    }\n",
       "    .progress-bar-interrupted, .progress-bar-interrupted::-webkit-progress-bar {\n",
       "        background: #F44336;\n",
       "    }\n",
       "</style>\n"
      ],
      "text/plain": [
       "<IPython.core.display.HTML object>"
      ]
     },
     "metadata": {},
     "output_type": "display_data"
    },
    {
     "data": {
      "text/html": [],
      "text/plain": [
       "<IPython.core.display.HTML object>"
      ]
     },
     "metadata": {},
     "output_type": "display_data"
    },
    {
     "data": {
      "image/png": "[encoded data removed]",
      "text/plain": [
       "<Figure size 432x288 with 1 Axes>"
      ]
     },
     "metadata": {
      "needs_background": "light"
     },
     "output_type": "display_data"
    }
   ],
   "source": [
    "tta_res = []\n",
    "\n",
    "for arch,details in models.items():\n",
    "    for item,size in details:\n",
    "        print('---',arch)\n",
    "        print(size)\n",
    "        print(item.name)\n",
    "        \n",
    "        lr_valley, lr_slide = find_lr(arch, size, item=item, finetune=True, accum=4)\n",
    "    \n",
    "        gc.collect()\n",
    "        torch.cuda.empty_cache()"
   ]
  },
  {
   "cell_type": "code",
   "execution_count": 9,
   "metadata": {},
   "outputs": [],
   "source": [
    "def plot_values(recorder, skip_start=5, with_valid=True):\n",
    "        plt.plot(list(range(skip_start, len(recorder.values))), recorder.values[skip_start:], label='train')\n",
    "        if with_valid:\n",
    "            idx = (np.array(recorder.iters)<skip_start).sum()\n",
    "            valid_col = recorder.metric_names.index('valid_accuracy') - 1 \n",
    "            plt.plot(recorder.iters[idx:], L(recorder.values[idx:]).itemgot(valid_col), label='valid')\n",
    "            plt.figure(1)\n",
    "            plt.legend()"
   ]
  },
  {
   "cell_type": "code",
   "execution_count": 10,
   "metadata": {},
   "outputs": [],
   "source": [
    "def train(arch, size, item=Resize(480, method='squish'), accum=1, finetune=True, epochs=15):\n",
    "    dls = ImageDataLoaders.from_folder(trn_path, valid_pct=0.2, item_tfms=item,\n",
    "                                       batch_tfms=aug_transforms(size=size, min_scale=0.75), bs=64//accum)\n",
    "\n",
    "    cbs = [GradientAccumulation(64) if accum else [], EarlyStoppingCallback(min_delta=1e-4, patience=10), SaveModelCallback(monitor=\"valid_loss\")]\n",
    "    learn = vision_learner(dls, arch, metrics=[accuracy, error_rate], cbs=cbs).to_fp16()\n",
    "    learn.recorder.train_metrics = True\n",
    "    tst_files = get_image_files(path/'test').sorted()\n",
    "    if finetune:\n",
    "        learn.fine_tune(epochs, 0.01)\n",
    "        learn.recorder.plot_loss()\n",
    "        learn.recorder.plot_values()\n",
    "        learn.tta(dl=dls.test_dl(tst_files))\n",
    "    else:\n",
    "        learn.unfreeze()\n",
    "        learn.fit_one_cycle(epochs, 0.01)\n",
    "        learn.recorder.plot_loss()\n",
    "        learn.recorder.plot_values()\n",
    "\n",
    "    return learn, dls\n"
   ]
  },
  {
   "cell_type": "code",
   "execution_count": 11,
   "metadata": {},
   "outputs": [],
   "source": [
    "torch.cuda.empty_cache()"
   ]
  },
  {
   "cell_type": "code",
   "execution_count": 12,
   "metadata": {},
   "outputs": [
    {
     "name": "stdout",
     "output_type": "stream",
     "text": [
      "--- convnext_tiny_in22k\n",
      "224\n",
      "Resize -- {'size': (480, 480), 'method': 'squish', 'pad_mode': 'reflection', 'resamples': (<Resampling.BILINEAR: 2>, <Resampling.NEAREST: 0>), 'p': 1.0}\n",
      "Due to IPython and Windows limitation, python multiprocessing isn't available now.\n",
      "So `number_workers` is changed to 0 to avoid getting stuck\n"
     ]
    },
    {
     "data": {
      "text/html": [
       "\n",
       "<style>\n",
       "    /* Turns off some styling */\n",
       "    progress {\n",
       "        /* gets rid of default border in Firefox and Opera. */\n",
       "        border: none;\n",
       "        /* Needs to be in here for Safari polyfill so background images work as expected. */\n",
       "        background-size: auto;\n",
       "    }\n",
       "    progress:not([value]), progress:not([value])::-webkit-progress-bar {\n",
       "        background: repeating-linear-gradient(45deg, #7e7e7e, #7e7e7e 10px, #5c5c5c 10px, #5c5c5c 20px);\n",
       "    }\n",
       "    .progress-bar-interrupted, .progress-bar-interrupted::-webkit-progress-bar {\n",
       "        background: #F44336;\n",
       "    }\n",
       "</style>\n"
      ],
      "text/plain": [
       "<IPython.core.display.HTML object>"
      ]
     },
     "metadata": {},
     "output_type": "display_data"
    },
    {
     "data": {
      "text/html": [
       "<table border=\"1\" class=\"dataframe\">\n",
       "  <thead>\n",
       "    <tr style=\"text-align: left;\">\n",
       "      <th>epoch</th>\n",
       "      <th>train_loss</th>\n",
       "      <th>train_accuracy</th>\n",
       "      <th>train_error_rate</th>\n",
       "      <th>valid_loss</th>\n",
       "      <th>valid_accuracy</th>\n",
       "      <th>valid_error_rate</th>\n",
       "      <th>time</th>\n",
       "    </tr>\n",
       "  </thead>\n",
       "  <tbody>\n",
       "    <tr>\n",
       "      <td>0</td>\n",
       "      <td>1.133938</td>\n",
       "      <td>0.573618</td>\n",
       "      <td>0.426382</td>\n",
       "      <td>0.700569</td>\n",
       "      <td>0.752404</td>\n",
       "      <td>0.247596</td>\n",
       "      <td>09:07</td>\n",
       "    </tr>\n",
       "  </tbody>\n",
       "</table>"
      ],
      "text/plain": [
       "<IPython.core.display.HTML object>"
      ]
     },
     "metadata": {},
     "output_type": "display_data"
    },
    {
     "name": "stdout",
     "output_type": "stream",
     "text": [
      "Better model found at epoch 0 with valid_loss value: 0.7005690336227417.\n"
     ]
    },
    {
     "data": {
      "text/html": [
       "\n",
       "<style>\n",
       "    /* Turns off some styling */\n",
       "    progress {\n",
       "        /* gets rid of default border in Firefox and Opera. */\n",
       "        border: none;\n",
       "        /* Needs to be in here for Safari polyfill so background images work as expected. */\n",
       "        background-size: auto;\n",
       "    }\n",
       "    progress:not([value]), progress:not([value])::-webkit-progress-bar {\n",
       "        background: repeating-linear-gradient(45deg, #7e7e7e, #7e7e7e 10px, #5c5c5c 10px, #5c5c5c 20px);\n",
       "    }\n",
       "    .progress-bar-interrupted, .progress-bar-interrupted::-webkit-progress-bar {\n",
       "        background: #F44336;\n",
       "    }\n",
       "</style>\n"
      ],
      "text/plain": [
       "<IPython.core.display.HTML object>"
      ]
     },
     "metadata": {},
     "output_type": "display_data"
    },
    {
     "data": {
      "text/html": [
       "<table border=\"1\" class=\"dataframe\">\n",
       "  <thead>\n",
       "    <tr style=\"text-align: left;\">\n",
       "      <th>epoch</th>\n",
       "      <th>train_loss</th>\n",
       "      <th>train_accuracy</th>\n",
       "      <th>train_error_rate</th>\n",
       "      <th>valid_loss</th>\n",
       "      <th>valid_accuracy</th>\n",
       "      <th>valid_error_rate</th>\n",
       "      <th>time</th>\n",
       "    </tr>\n",
       "  </thead>\n",
       "  <tbody>\n",
       "    <tr>\n",
       "      <td>0</td>\n",
       "      <td>0.597284</td>\n",
       "      <td>0.764874</td>\n",
       "      <td>0.235126</td>\n",
       "      <td>0.341180</td>\n",
       "      <td>0.893630</td>\n",
       "      <td>0.106370</td>\n",
       "      <td>11:20</td>\n",
       "    </tr>\n",
       "    <tr>\n",
       "      <td>1</td>\n",
       "      <td>0.472353</td>\n",
       "      <td>0.832182</td>\n",
       "      <td>0.167819</td>\n",
       "      <td>0.259328</td>\n",
       "      <td>0.923678</td>\n",
       "      <td>0.076322</td>\n",
       "      <td>11:20</td>\n",
       "    </tr>\n",
       "    <tr>\n",
       "      <td>2</td>\n",
       "      <td>0.375200</td>\n",
       "      <td>0.876803</td>\n",
       "      <td>0.123197</td>\n",
       "      <td>0.213536</td>\n",
       "      <td>0.937500</td>\n",
       "      <td>0.062500</td>\n",
       "      <td>11:20</td>\n",
       "    </tr>\n",
       "    <tr>\n",
       "      <td>3</td>\n",
       "      <td>0.336717</td>\n",
       "      <td>0.885817</td>\n",
       "      <td>0.114183</td>\n",
       "      <td>0.208195</td>\n",
       "      <td>0.938101</td>\n",
       "      <td>0.061899</td>\n",
       "      <td>11:21</td>\n",
       "    </tr>\n",
       "    <tr>\n",
       "      <td>4</td>\n",
       "      <td>0.320921</td>\n",
       "      <td>0.898588</td>\n",
       "      <td>0.101412</td>\n",
       "      <td>0.180140</td>\n",
       "      <td>0.947115</td>\n",
       "      <td>0.052885</td>\n",
       "      <td>11:22</td>\n",
       "    </tr>\n",
       "    <tr>\n",
       "      <td>5</td>\n",
       "      <td>0.279587</td>\n",
       "      <td>0.904147</td>\n",
       "      <td>0.095853</td>\n",
       "      <td>0.200307</td>\n",
       "      <td>0.947716</td>\n",
       "      <td>0.052284</td>\n",
       "      <td>11:21</td>\n",
       "    </tr>\n",
       "    <tr>\n",
       "      <td>6</td>\n",
       "      <td>0.252745</td>\n",
       "      <td>0.910757</td>\n",
       "      <td>0.089243</td>\n",
       "      <td>0.190974</td>\n",
       "      <td>0.945312</td>\n",
       "      <td>0.054688</td>\n",
       "      <td>11:24</td>\n",
       "    </tr>\n",
       "    <tr>\n",
       "      <td>7</td>\n",
       "      <td>0.257837</td>\n",
       "      <td>0.920823</td>\n",
       "      <td>0.079177</td>\n",
       "      <td>0.184023</td>\n",
       "      <td>0.948918</td>\n",
       "      <td>0.051082</td>\n",
       "      <td>11:25</td>\n",
       "    </tr>\n",
       "    <tr>\n",
       "      <td>8</td>\n",
       "      <td>0.264751</td>\n",
       "      <td>0.923678</td>\n",
       "      <td>0.076322</td>\n",
       "      <td>0.169028</td>\n",
       "      <td>0.949519</td>\n",
       "      <td>0.050481</td>\n",
       "      <td>11:24</td>\n",
       "    </tr>\n",
       "    <tr>\n",
       "      <td>9</td>\n",
       "      <td>0.204797</td>\n",
       "      <td>0.922927</td>\n",
       "      <td>0.077073</td>\n",
       "      <td>0.168030</td>\n",
       "      <td>0.950721</td>\n",
       "      <td>0.049279</td>\n",
       "      <td>11:24</td>\n",
       "    </tr>\n",
       "    <tr>\n",
       "      <td>10</td>\n",
       "      <td>0.237564</td>\n",
       "      <td>0.935697</td>\n",
       "      <td>0.064303</td>\n",
       "      <td>0.149950</td>\n",
       "      <td>0.963341</td>\n",
       "      <td>0.036659</td>\n",
       "      <td>11:24</td>\n",
       "    </tr>\n",
       "    <tr>\n",
       "      <td>11</td>\n",
       "      <td>0.221137</td>\n",
       "      <td>0.938101</td>\n",
       "      <td>0.061899</td>\n",
       "      <td>0.149358</td>\n",
       "      <td>0.964543</td>\n",
       "      <td>0.035457</td>\n",
       "      <td>11:24</td>\n",
       "    </tr>\n",
       "    <tr>\n",
       "      <td>12</td>\n",
       "      <td>0.221692</td>\n",
       "      <td>0.947115</td>\n",
       "      <td>0.052885</td>\n",
       "      <td>0.163026</td>\n",
       "      <td>0.959135</td>\n",
       "      <td>0.040865</td>\n",
       "      <td>11:24</td>\n",
       "    </tr>\n",
       "    <tr>\n",
       "      <td>13</td>\n",
       "      <td>0.178872</td>\n",
       "      <td>0.951472</td>\n",
       "      <td>0.048528</td>\n",
       "      <td>0.174811</td>\n",
       "      <td>0.957933</td>\n",
       "      <td>0.042067</td>\n",
       "      <td>11:24</td>\n",
       "    </tr>\n",
       "    <tr>\n",
       "      <td>14</td>\n",
       "      <td>0.158773</td>\n",
       "      <td>0.957632</td>\n",
       "      <td>0.042368</td>\n",
       "      <td>0.156068</td>\n",
       "      <td>0.962139</td>\n",
       "      <td>0.037861</td>\n",
       "      <td>11:24</td>\n",
       "    </tr>\n",
       "    <tr>\n",
       "      <td>15</td>\n",
       "      <td>0.122073</td>\n",
       "      <td>0.964393</td>\n",
       "      <td>0.035607</td>\n",
       "      <td>0.137197</td>\n",
       "      <td>0.963341</td>\n",
       "      <td>0.036659</td>\n",
       "      <td>11:24</td>\n",
       "    </tr>\n",
       "    <tr>\n",
       "      <td>16</td>\n",
       "      <td>0.170896</td>\n",
       "      <td>0.960487</td>\n",
       "      <td>0.039513</td>\n",
       "      <td>0.155045</td>\n",
       "      <td>0.965745</td>\n",
       "      <td>0.034255</td>\n",
       "      <td>11:25</td>\n",
       "    </tr>\n",
       "    <tr>\n",
       "      <td>17</td>\n",
       "      <td>0.131659</td>\n",
       "      <td>0.963341</td>\n",
       "      <td>0.036659</td>\n",
       "      <td>0.140203</td>\n",
       "      <td>0.967548</td>\n",
       "      <td>0.032452</td>\n",
       "      <td>11:25</td>\n",
       "    </tr>\n",
       "    <tr>\n",
       "      <td>18</td>\n",
       "      <td>0.103395</td>\n",
       "      <td>0.969952</td>\n",
       "      <td>0.030048</td>\n",
       "      <td>0.156452</td>\n",
       "      <td>0.962740</td>\n",
       "      <td>0.037260</td>\n",
       "      <td>11:26</td>\n",
       "    </tr>\n",
       "    <tr>\n",
       "      <td>19</td>\n",
       "      <td>0.101797</td>\n",
       "      <td>0.969201</td>\n",
       "      <td>0.030799</td>\n",
       "      <td>0.154969</td>\n",
       "      <td>0.965745</td>\n",
       "      <td>0.034255</td>\n",
       "      <td>11:24</td>\n",
       "    </tr>\n",
       "    <tr>\n",
       "      <td>20</td>\n",
       "      <td>0.091753</td>\n",
       "      <td>0.974609</td>\n",
       "      <td>0.025391</td>\n",
       "      <td>0.121451</td>\n",
       "      <td>0.975361</td>\n",
       "      <td>0.024639</td>\n",
       "      <td>11:25</td>\n",
       "    </tr>\n",
       "    <tr>\n",
       "      <td>21</td>\n",
       "      <td>0.071098</td>\n",
       "      <td>0.977314</td>\n",
       "      <td>0.022686</td>\n",
       "      <td>0.129075</td>\n",
       "      <td>0.972957</td>\n",
       "      <td>0.027043</td>\n",
       "      <td>11:26</td>\n",
       "    </tr>\n",
       "    <tr>\n",
       "      <td>22</td>\n",
       "      <td>0.065173</td>\n",
       "      <td>0.982272</td>\n",
       "      <td>0.017728</td>\n",
       "      <td>0.116332</td>\n",
       "      <td>0.973558</td>\n",
       "      <td>0.026442</td>\n",
       "      <td>11:25</td>\n",
       "    </tr>\n",
       "    <tr>\n",
       "      <td>23</td>\n",
       "      <td>0.075388</td>\n",
       "      <td>0.983774</td>\n",
       "      <td>0.016226</td>\n",
       "      <td>0.122343</td>\n",
       "      <td>0.977764</td>\n",
       "      <td>0.022236</td>\n",
       "      <td>11:26</td>\n",
       "    </tr>\n",
       "    <tr>\n",
       "      <td>24</td>\n",
       "      <td>0.067354</td>\n",
       "      <td>0.980919</td>\n",
       "      <td>0.019081</td>\n",
       "      <td>0.120181</td>\n",
       "      <td>0.971755</td>\n",
       "      <td>0.028245</td>\n",
       "      <td>11:24</td>\n",
       "    </tr>\n",
       "    <tr>\n",
       "      <td>25</td>\n",
       "      <td>0.047501</td>\n",
       "      <td>0.983323</td>\n",
       "      <td>0.016677</td>\n",
       "      <td>0.110724</td>\n",
       "      <td>0.976562</td>\n",
       "      <td>0.023438</td>\n",
       "      <td>11:25</td>\n",
       "    </tr>\n",
       "    <tr>\n",
       "      <td>26</td>\n",
       "      <td>0.039204</td>\n",
       "      <td>0.987680</td>\n",
       "      <td>0.012320</td>\n",
       "      <td>0.125107</td>\n",
       "      <td>0.975962</td>\n",
       "      <td>0.024038</td>\n",
       "      <td>11:26</td>\n",
       "    </tr>\n",
       "    <tr>\n",
       "      <td>27</td>\n",
       "      <td>0.051280</td>\n",
       "      <td>0.989032</td>\n",
       "      <td>0.010968</td>\n",
       "      <td>0.108336</td>\n",
       "      <td>0.978365</td>\n",
       "      <td>0.021635</td>\n",
       "      <td>11:25</td>\n",
       "    </tr>\n",
       "    <tr>\n",
       "      <td>28</td>\n",
       "      <td>0.038326</td>\n",
       "      <td>0.987230</td>\n",
       "      <td>0.012770</td>\n",
       "      <td>0.110414</td>\n",
       "      <td>0.976562</td>\n",
       "      <td>0.023438</td>\n",
       "      <td>11:25</td>\n",
       "    </tr>\n",
       "    <tr>\n",
       "      <td>29</td>\n",
       "      <td>0.038816</td>\n",
       "      <td>0.990385</td>\n",
       "      <td>0.009615</td>\n",
       "      <td>0.109654</td>\n",
       "      <td>0.974159</td>\n",
       "      <td>0.025841</td>\n",
       "      <td>11:27</td>\n",
       "    </tr>\n",
       "    <tr>\n",
       "      <td>30</td>\n",
       "      <td>0.035061</td>\n",
       "      <td>0.989784</td>\n",
       "      <td>0.010216</td>\n",
       "      <td>0.093429</td>\n",
       "      <td>0.976562</td>\n",
       "      <td>0.023438</td>\n",
       "      <td>11:24</td>\n",
       "    </tr>\n",
       "    <tr>\n",
       "      <td>31</td>\n",
       "      <td>0.020310</td>\n",
       "      <td>0.991286</td>\n",
       "      <td>0.008714</td>\n",
       "      <td>0.092840</td>\n",
       "      <td>0.980168</td>\n",
       "      <td>0.019832</td>\n",
       "      <td>11:25</td>\n",
       "    </tr>\n",
       "    <tr>\n",
       "      <td>32</td>\n",
       "      <td>0.015890</td>\n",
       "      <td>0.992939</td>\n",
       "      <td>0.007061</td>\n",
       "      <td>0.089818</td>\n",
       "      <td>0.978966</td>\n",
       "      <td>0.021034</td>\n",
       "      <td>11:25</td>\n",
       "    </tr>\n",
       "    <tr>\n",
       "      <td>33</td>\n",
       "      <td>0.025149</td>\n",
       "      <td>0.992338</td>\n",
       "      <td>0.007662</td>\n",
       "      <td>0.099893</td>\n",
       "      <td>0.978365</td>\n",
       "      <td>0.021635</td>\n",
       "      <td>11:25</td>\n",
       "    </tr>\n",
       "    <tr>\n",
       "      <td>34</td>\n",
       "      <td>0.027273</td>\n",
       "      <td>0.992939</td>\n",
       "      <td>0.007061</td>\n",
       "      <td>0.094137</td>\n",
       "      <td>0.978966</td>\n",
       "      <td>0.021034</td>\n",
       "      <td>11:25</td>\n",
       "    </tr>\n",
       "    <tr>\n",
       "      <td>35</td>\n",
       "      <td>0.017346</td>\n",
       "      <td>0.995643</td>\n",
       "      <td>0.004357</td>\n",
       "      <td>0.087657</td>\n",
       "      <td>0.978966</td>\n",
       "      <td>0.021034</td>\n",
       "      <td>11:25</td>\n",
       "    </tr>\n",
       "    <tr>\n",
       "      <td>36</td>\n",
       "      <td>0.016716</td>\n",
       "      <td>0.993239</td>\n",
       "      <td>0.006761</td>\n",
       "      <td>0.089035</td>\n",
       "      <td>0.979567</td>\n",
       "      <td>0.020433</td>\n",
       "      <td>11:25</td>\n",
       "    </tr>\n",
       "    <tr>\n",
       "      <td>37</td>\n",
       "      <td>0.021176</td>\n",
       "      <td>0.993990</td>\n",
       "      <td>0.006010</td>\n",
       "      <td>0.091657</td>\n",
       "      <td>0.980168</td>\n",
       "      <td>0.019832</td>\n",
       "      <td>11:24</td>\n",
       "    </tr>\n",
       "    <tr>\n",
       "      <td>38</td>\n",
       "      <td>0.012686</td>\n",
       "      <td>0.994742</td>\n",
       "      <td>0.005258</td>\n",
       "      <td>0.089367</td>\n",
       "      <td>0.978966</td>\n",
       "      <td>0.021034</td>\n",
       "      <td>11:24</td>\n",
       "    </tr>\n",
       "    <tr>\n",
       "      <td>39</td>\n",
       "      <td>0.022585</td>\n",
       "      <td>0.994591</td>\n",
       "      <td>0.005409</td>\n",
       "      <td>0.090111</td>\n",
       "      <td>0.980168</td>\n",
       "      <td>0.019832</td>\n",
       "      <td>11:25</td>\n",
       "    </tr>\n",
       "  </tbody>\n",
       "</table>"
      ],
      "text/plain": [
       "<IPython.core.display.HTML object>"
      ]
     },
     "metadata": {},
     "output_type": "display_data"
    },
    {
     "name": "stdout",
     "output_type": "stream",
     "text": [
      "Better model found at epoch 0 with valid_loss value: 0.34118005633354187.\n",
      "Better model found at epoch 1 with valid_loss value: 0.2593284547328949.\n",
      "Better model found at epoch 2 with valid_loss value: 0.21353599429130554.\n",
      "Better model found at epoch 3 with valid_loss value: 0.20819464325904846.\n",
      "Better model found at epoch 4 with valid_loss value: 0.18014028668403625.\n",
      "Better model found at epoch 8 with valid_loss value: 0.16902831196784973.\n",
      "Better model found at epoch 9 with valid_loss value: 0.16802978515625.\n",
      "Better model found at epoch 10 with valid_loss value: 0.14995047450065613.\n",
      "Better model found at epoch 11 with valid_loss value: 0.14935845136642456.\n",
      "Better model found at epoch 15 with valid_loss value: 0.1371968537569046.\n",
      "Better model found at epoch 20 with valid_loss value: 0.12145090848207474.\n",
      "Better model found at epoch 22 with valid_loss value: 0.11633226275444031.\n",
      "Better model found at epoch 25 with valid_loss value: 0.11072362959384918.\n",
      "Better model found at epoch 27 with valid_loss value: 0.10833605378866196.\n",
      "Better model found at epoch 30 with valid_loss value: 0.09342948347330093.\n",
      "Better model found at epoch 31 with valid_loss value: 0.09284022450447083.\n",
      "Better model found at epoch 32 with valid_loss value: 0.08981836587190628.\n",
      "Better model found at epoch 35 with valid_loss value: 0.08765656501054764.\n"
     ]
    },
    {
     "data": {
      "text/html": [
       "\n",
       "<style>\n",
       "    /* Turns off some styling */\n",
       "    progress {\n",
       "        /* gets rid of default border in Firefox and Opera. */\n",
       "        border: none;\n",
       "        /* Needs to be in here for Safari polyfill so background images work as expected. */\n",
       "        background-size: auto;\n",
       "    }\n",
       "    progress:not([value]), progress:not([value])::-webkit-progress-bar {\n",
       "        background: repeating-linear-gradient(45deg, #7e7e7e, #7e7e7e 10px, #5c5c5c 10px, #5c5c5c 20px);\n",
       "    }\n",
       "    .progress-bar-interrupted, .progress-bar-interrupted::-webkit-progress-bar {\n",
       "        background: #F44336;\n",
       "    }\n",
       "</style>\n"
      ],
      "text/plain": [
       "<IPython.core.display.HTML object>"
      ]
     },
     "metadata": {},
     "output_type": "display_data"
    },
    {
     "data": {
      "text/html": [
       "\n",
       "    <div>\n",
       "      <progress value='0' class='' max='40' style='width:300px; height:20px; vertical-align: middle;'></progress>\n",
       "      \n",
       "    </div>\n",
       "    \n"
      ],
      "text/plain": [
       "<IPython.core.display.HTML object>"
      ]
     },
     "metadata": {},
     "output_type": "display_data"
    },
    {
     "data": {
      "text/html": [
       "\n",
       "<style>\n",
       "    /* Turns off some styling */\n",
       "    progress {\n",
       "        /* gets rid of default border in Firefox and Opera. */\n",
       "        border: none;\n",
       "        /* Needs to be in here for Safari polyfill so background images work as expected. */\n",
       "        background-size: auto;\n",
       "    }\n",
       "    progress:not([value]), progress:not([value])::-webkit-progress-bar {\n",
       "        background: repeating-linear-gradient(45deg, #7e7e7e, #7e7e7e 10px, #5c5c5c 10px, #5c5c5c 20px);\n",
       "    }\n",
       "    .progress-bar-interrupted, .progress-bar-interrupted::-webkit-progress-bar {\n",
       "        background: #F44336;\n",
       "    }\n",
       "</style>\n"
      ],
      "text/plain": [
       "<IPython.core.display.HTML object>"
      ]
     },
     "metadata": {},
     "output_type": "display_data"
    },
    {
     "data": {
      "text/html": [],
      "text/plain": [
       "<IPython.core.display.HTML object>"
      ]
     },
     "metadata": {},
     "output_type": "display_data"
    },
    {
     "data": {
      "image/png": "[encoded data removed]",
      "text/plain": [
       "<Figure size 432x288 with 1 Axes>"
      ]
     },
     "metadata": {
      "needs_background": "light"
     },
     "output_type": "display_data"
    },
    {
     "data": {
      "image/png": "[encoded data removed]",
      "text/plain": [
       "<Figure size 432x288 with 1 Axes>"
      ]
     },
     "metadata": {
      "needs_background": "light"
     },
     "output_type": "display_data"
    }
   ],
   "source": [
    "for arch,details in models.items():\n",
    "    for item,size in details:\n",
    "        print('---',arch)\n",
    "        print(size)\n",
    "        print(item.name)\n",
    "        \n",
    "        learn, dls = train(arch, size, item=item, finetune=True, accum=4, epochs=40)\n",
    "        learn.save(arch)\n",
    "        learn.export(\"models/\"+arch+\".pkl\")\n",
    "\n",
    "        \n",
    "        gc.collect()\n",
    "        torch.cuda.empty_cache()"
   ]
  },
  {
   "cell_type": "code",
   "execution_count": 7,
   "metadata": {},
   "outputs": [
    {
     "name": "stdout",
     "output_type": "stream",
     "text": [
      "--- convnext_tiny_in22k\n",
      "224\n",
      "Resize -- {'size': (480, 480), 'method': 'squish', 'pad_mode': 'reflection', 'resamples': (<Resampling.BILINEAR: 2>, <Resampling.NEAREST: 0>), 'p': 1.0}\n",
      "Due to IPython and Windows limitation, python multiprocessing isn't available now.\n",
      "So `number_workers` is changed to 0 to avoid getting stuck\n"
     ]
    }
   ],
   "source": [
    "models = {\n",
    "    'convnext_tiny_in22k': {\n",
    "        (Resize(480, method='squish'), 224),\n",
    "    },\n",
    "}\n",
    "\n",
    "def train(arch, size, item=Resize(480, method='squish'), accum=1, finetune=True):\n",
    "    dls = ImageDataLoaders.from_folder(trn_path, valid_pct=0.25, item_tfms=item,\n",
    "        batch_tfms=aug_transforms(size=size, min_scale=0.75), bs=32//accum)\n",
    "    cbs = GradientAccumulation(64) if accum else []\n",
    "    learn = vision_learner(dls, arch, metrics=error_rate, cbs=cbs).to_fp16()\n",
    "\n",
    "    return learn, dls\n",
    "\n",
    "for arch,details in models.items():\n",
    "    for item,size in details:\n",
    "        print('---',arch)\n",
    "        print(size)\n",
    "        print(item.name)\n",
    "        \n",
    "        learn, dls = train(arch, size, item=item, finetune=True, accum=4)\n",
    "    \n",
    "        gc.collect()\n",
    "        torch.cuda.empty_cache()\n"
   ]
  },
  {
   "cell_type": "code",
   "execution_count": 8,
   "metadata": {},
   "outputs": [],
   "source": [
    "from fastai.text.all import * \n",
    "learner= learn.load(\"convnext_tiny_in22k\")"
   ]
  },
  {
   "cell_type": "code",
   "execution_count": 7,
   "metadata": {},
   "outputs": [
    {
     "data": {
      "text/html": [
       "\n",
       "<style>\n",
       "    /* Turns off some styling */\n",
       "    progress {\n",
       "        /* gets rid of default border in Firefox and Opera. */\n",
       "        border: none;\n",
       "        /* Needs to be in here for Safari polyfill so background images work as expected. */\n",
       "        background-size: auto;\n",
       "    }\n",
       "    progress:not([value]), progress:not([value])::-webkit-progress-bar {\n",
       "        background: repeating-linear-gradient(45deg, #7e7e7e, #7e7e7e 10px, #5c5c5c 10px, #5c5c5c 20px);\n",
       "    }\n",
       "    .progress-bar-interrupted, .progress-bar-interrupted::-webkit-progress-bar {\n",
       "        background: #F44336;\n",
       "    }\n",
       "</style>\n"
      ],
      "text/plain": [
       "<IPython.core.display.HTML object>"
      ]
     },
     "metadata": {},
     "output_type": "display_data"
    },
    {
     "data": {
      "text/html": [],
      "text/plain": [
       "<IPython.core.display.HTML object>"
      ]
     },
     "metadata": {},
     "output_type": "display_data"
    }
   ],
   "source": [
    "interpret = ClassificationInterpretation.from_learner(learner)"
   ]
  },
  {
   "cell_type": "code",
   "execution_count": null,
   "metadata": {},
   "outputs": [
    {
     "data": {
      "text/html": [
       "\n",
       "<style>\n",
       "    /* Turns off some styling */\n",
       "    progress {\n",
       "        /* gets rid of default border in Firefox and Opera. */\n",
       "        border: none;\n",
       "        /* Needs to be in here for Safari polyfill so background images work as expected. */\n",
       "        background-size: auto;\n",
       "    }\n",
       "    progress:not([value]), progress:not([value])::-webkit-progress-bar {\n",
       "        background: repeating-linear-gradient(45deg, #7e7e7e, #7e7e7e 10px, #5c5c5c 10px, #5c5c5c 20px);\n",
       "    }\n",
       "    .progress-bar-interrupted, .progress-bar-interrupted::-webkit-progress-bar {\n",
       "        background: #F44336;\n",
       "    }\n",
       "</style>\n"
      ],
      "text/plain": [
       "<IPython.core.display.HTML object>"
      ]
     },
     "metadata": {},
     "output_type": "display_data"
    },
    {
     "data": {
      "text/html": [],
      "text/plain": [
       "<IPython.core.display.HTML object>"
      ]
     },
     "metadata": {},
     "output_type": "display_data"
    },
    {
     "name": "stdout",
     "output_type": "stream",
     "text": [
      "                          precision    recall  f1-score   support\n",
      "\n",
      "   bacterial_leaf_blight       0.94      0.97      0.96        66\n",
      "   bacterial_leaf_streak       0.98      0.98      0.98        59\n",
      "bacterial_panicle_blight       1.00      1.00      1.00        48\n",
      "                   blast       0.98      0.99      0.99       312\n",
      "              brown_spot       0.97      0.99      0.98       153\n",
      "              dead_heart       1.00      1.00      1.00       218\n",
      "            downy_mildew       0.97      0.96      0.97       101\n",
      "                   hispa       0.96      0.96      0.96       233\n",
      "                  normal       0.98      0.97      0.97       286\n",
      "                  tungro       0.99      0.97      0.98       188\n",
      "\n",
      "                accuracy                           0.98      1664\n",
      "               macro avg       0.98      0.98      0.98      1664\n",
      "            weighted avg       0.98      0.98      0.98      1664\n",
      "\n"
     ]
    }
   ],
   "source": [
    "interpret.print_classification_report()"
   ]
  },
  {
   "cell_type": "code",
   "execution_count": 8,
   "metadata": {},
   "outputs": [
    {
     "data": {
      "text/html": [
       "\n",
       "<style>\n",
       "    /* Turns off some styling */\n",
       "    progress {\n",
       "        /* gets rid of default border in Firefox and Opera. */\n",
       "        border: none;\n",
       "        /* Needs to be in here for Safari polyfill so background images work as expected. */\n",
       "        background-size: auto;\n",
       "    }\n",
       "    progress:not([value]), progress:not([value])::-webkit-progress-bar {\n",
       "        background: repeating-linear-gradient(45deg, #7e7e7e, #7e7e7e 10px, #5c5c5c 10px, #5c5c5c 20px);\n",
       "    }\n",
       "    .progress-bar-interrupted, .progress-bar-interrupted::-webkit-progress-bar {\n",
       "        background: #F44336;\n",
       "    }\n",
       "</style>\n"
      ],
      "text/plain": [
       "<IPython.core.display.HTML object>"
      ]
     },
     "metadata": {},
     "output_type": "display_data"
    },
    {
     "data": {
      "text/html": [],
      "text/plain": [
       "<IPython.core.display.HTML object>"
      ]
     },
     "metadata": {},
     "output_type": "display_data"
    },
    {
     "data": {
      "image/png": "[encoded data removed]",
      "text/plain": [
       "<Figure size 432x288 with 1 Axes>"
      ]
     },
     "metadata": {
      "needs_background": "light"
     },
     "output_type": "display_data"
    }
   ],
   "source": [
    "interpret.plot_confusion_matrix()"
   ]
  },
  {
   "cell_type": "code",
   "execution_count": 9,
   "metadata": {},
   "outputs": [
    {
     "name": "stdout",
     "output_type": "stream",
     "text": [
      "Due to IPython and Windows limitation, python multiprocessing isn't available now.\n",
      "So `number_workers` is changed to 0 to avoid getting stuck\n"
     ]
    }
   ],
   "source": [
    "for arch,details in models.items():\n",
    "    for item,size in details:        \n",
    "        dls = ImageDataLoaders.from_folder(trn_path, valid_pct=0.25, item_tfms=item,\n",
    "                batch_tfms=aug_transforms(size=size, min_scale=0.75), bs=32//4)\n",
    "        tst_files = get_image_files(path/'test').sorted()\n",
    "        tst_dl = dls.test_dl(tst_files, with_labels=True, num_workers=0)\n",
    "        tst_dl"
   ]
  },
  {
   "cell_type": "code",
   "execution_count": 10,
   "metadata": {},
   "outputs": [
    {
     "data": {
      "text/html": [
       "\n",
       "<style>\n",
       "    /* Turns off some styling */\n",
       "    progress {\n",
       "        /* gets rid of default border in Firefox and Opera. */\n",
       "        border: none;\n",
       "        /* Needs to be in here for Safari polyfill so background images work as expected. */\n",
       "        background-size: auto;\n",
       "    }\n",
       "    progress:not([value]), progress:not([value])::-webkit-progress-bar {\n",
       "        background: repeating-linear-gradient(45deg, #7e7e7e, #7e7e7e 10px, #5c5c5c 10px, #5c5c5c 20px);\n",
       "    }\n",
       "    .progress-bar-interrupted, .progress-bar-interrupted::-webkit-progress-bar {\n",
       "        background: #F44336;\n",
       "    }\n",
       "</style>\n"
      ],
      "text/plain": [
       "<IPython.core.display.HTML object>"
      ]
     },
     "metadata": {},
     "output_type": "display_data"
    },
    {
     "data": {
      "text/html": [],
      "text/plain": [
       "<IPython.core.display.HTML object>"
      ]
     },
     "metadata": {},
     "output_type": "display_data"
    },
    {
     "name": "stdout",
     "output_type": "stream",
     "text": [
      "The accuracy is 0.9049903750419617 %.\n"
     ]
    }
   ],
   "source": [
    "acc = accuracy(*learner.get_preds(dl=tst_dl))\n",
    "print('The accuracy is {0} %.'.format(acc))"
   ]
  },
  {
   "cell_type": "code",
   "execution_count": 24,
   "metadata": {},
   "outputs": [
    {
     "data": {
      "text/plain": [
       "['bacterial_leaf_blight', 'bacterial_leaf_streak', 'bacterial_panicle_blight', 'blast', 'brown_spot', 'dead_heart', 'downy_mildew', 'hispa', 'normal', 'tungro']"
      ]
     },
     "execution_count": 24,
     "metadata": {},
     "output_type": "execute_result"
    }
   ],
   "source": [
    "dls.vocab"
   ]
  }
 ],
 "metadata": {
  "kernelspec": {
   "display_name": "Python 3.8.1 64-bit",
   "language": "python",
   "name": "python3"
  },
  "language_info": {
   "codemirror_mode": {
    "name": "ipython",
    "version": 3
   },
   "file_extension": ".py",
   "mimetype": "text/x-python",
   "name": "python",
   "nbconvert_exporter": "python",
   "pygments_lexer": "ipython3",
   "version": "3.8.1 (tags/v3.8.1:1b293b6, Dec 18 2019, 23:11:46) [MSC v.1916 64 bit (AMD64)]"
  },
  "orig_nbformat": 4,
  "vscode": {
   "interpreter": {
    "hash": "e8e103f1427e845b325d32d1d1b7a680a975242c9df6a2c0532359a1c20fb4b0"
   }
  }
 },
 "nbformat": 4,
 "nbformat_minor": 2
}
