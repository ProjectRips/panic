{
 "cells": [
  {
   "cell_type": "markdown",
   "metadata": {},
   "source": [
    "training & result"
   ]
  },
  {
   "cell_type": "code",
   "execution_count": 2,
   "metadata": {},
   "outputs": [],
   "source": [
    "from fastkaggle import *\n",
    "import os\n",
    "import timm\n",
    "from fastai.vision.all import *\n",
    "import gc\n",
    "import os\n",
    "from matplotlib import pyplot as plt\n",
    "import cv2\n",
    "set_seed(42)"
   ]
  },
  {
   "cell_type": "code",
   "execution_count": 3,
   "metadata": {},
   "outputs": [],
   "source": [
    "comp = 'data'\n",
    "\n",
    "path = setup_comp(comp, install='\"fastcore>=1.4.5\" \"fastai>=2.7.1\" \"timm>=0.6.2.dev0\"')"
   ]
  },
  {
   "cell_type": "markdown",
   "metadata": {},
   "source": []
  },
  {
   "cell_type": "code",
   "execution_count": null,
   "metadata": {},
   "outputs": [
    {
     "data": {
      "text/plain": [
       "Path('data')"
      ]
     },
     "execution_count": 19,
     "metadata": {},
     "output_type": "execute_result"
    }
   ],
   "source": [
    "path"
   ]
  },
  {
   "cell_type": "code",
   "execution_count": null,
   "metadata": {},
   "outputs": [
    {
     "data": {
      "text/plain": [
       "(#2) [Path('data/test'),Path('data/train')]"
      ]
     },
     "execution_count": 20,
     "metadata": {},
     "output_type": "execute_result"
    }
   ],
   "source": [
    "path.ls()"
   ]
  },
  {
   "cell_type": "code",
   "execution_count": 4,
   "metadata": {},
   "outputs": [
    {
     "name": "stdout",
     "output_type": "stream",
     "text": [
      "data\\train\n"
     ]
    }
   ],
   "source": [
    "trn_path = path/'train'\n",
    "files = get_image_files(trn_path)\n",
    "\n",
    "print(trn_path)"
   ]
  },
  {
   "cell_type": "code",
   "execution_count": 22,
   "metadata": {},
   "outputs": [],
   "source": [
    "models = {\n",
    "    'vit_tiny_patch16_224': {\n",
    "        (Resize(480, method='squish'), 224),\n",
    "    },\n",
    "}\n"
   ]
  },
  {
   "cell_type": "code",
   "execution_count": 23,
   "metadata": {},
   "outputs": [],
   "source": [
    "def find_lr(arch, size, item=Resize(480, method='squish'), accum=1, finetune=True, epochs=15):\n",
    "    dls = ImageDataLoaders.from_folder(trn_path, valid_pct=0.25, item_tfms=item,\n",
    "        batch_tfms=aug_transforms(size=size, min_scale=0.75), bs=64)\n",
    "    learn = vision_learner(dls, arch, metrics=[error_rate]).to_fp16()\n",
    "    lr_valley, lr_slide = learn.lr_find(suggest_funcs=(valley, slide))\n",
    "    \n",
    "    return lr_valley, lr_slide\n"
   ]
  },
  {
   "cell_type": "code",
   "execution_count": 24,
   "metadata": {},
   "outputs": [
    {
     "name": "stdout",
     "output_type": "stream",
     "text": [
      "--- vit_tiny_patch16_224\n",
      "224\n",
      "Resize -- {'size': (480, 480), 'method': 'squish', 'pad_mode': 'reflection', 'resamples': (<Resampling.BILINEAR: 2>, <Resampling.NEAREST: 0>), 'p': 1.0}\n",
      "Due to IPython and Windows limitation, python multiprocessing isn't available now.\n",
      "So `number_workers` is changed to 0 to avoid getting stuck\n"
     ]
    },
    {
     "data": {
      "text/html": [
       "\n",
       "<style>\n",
       "    /* Turns off some styling */\n",
       "    progress {\n",
       "        /* gets rid of default border in Firefox and Opera. */\n",
       "        border: none;\n",
       "        /* Needs to be in here for Safari polyfill so background images work as expected. */\n",
       "        background-size: auto;\n",
       "    }\n",
       "    progress:not([value]), progress:not([value])::-webkit-progress-bar {\n",
       "        background: repeating-linear-gradient(45deg, #7e7e7e, #7e7e7e 10px, #5c5c5c 10px, #5c5c5c 20px);\n",
       "    }\n",
       "    .progress-bar-interrupted, .progress-bar-interrupted::-webkit-progress-bar {\n",
       "        background: #F44336;\n",
       "    }\n",
       "</style>\n"
      ],
      "text/plain": [
       "<IPython.core.display.HTML object>"
      ]
     },
     "metadata": {},
     "output_type": "display_data"
    },
    {
     "data": {
      "text/html": [],
      "text/plain": [
       "<IPython.core.display.HTML object>"
      ]
     },
     "metadata": {},
     "output_type": "display_data"
    },
    {
     "data": {
      "image/png": "[encoded data removed]",
      "text/plain": [
       "<Figure size 432x288 with 1 Axes>"
      ]
     },
     "metadata": {
      "needs_background": "light"
     },
     "output_type": "display_data"
    }
   ],
   "source": [
    "tta_res = []\n",
    "\n",
    "for arch,details in models.items():\n",
    "    for item,size in details:\n",
    "        print('---',arch)\n",
    "        print(size)\n",
    "        print(item.name)\n",
    "        \n",
    "        lr_valley, lr_slide = find_lr(arch, size, item=item, finetune=True, accum=4)\n",
    "    \n",
    "        gc.collect()\n",
    "        torch.cuda.empty_cache()"
   ]
  },
  {
   "cell_type": "code",
   "execution_count": 25,
   "metadata": {},
   "outputs": [],
   "source": [
    "def plot_values(recorder, skip_start=5, with_valid=True):\n",
    "        plt.plot(list(range(skip_start, len(recorder.values))), recorder.values[skip_start:], label='train')\n",
    "        if with_valid:\n",
    "            idx = (np.array(recorder.iters)<skip_start).sum()\n",
    "            valid_col = recorder.metric_names.index('valid_accuracy') - 1 \n",
    "            plt.plot(recorder.iters[idx:], L(recorder.values[idx:]).itemgot(valid_col), label='valid')\n",
    "            plt.figure(1)\n",
    "            plt.legend()"
   ]
  },
  {
   "cell_type": "code",
   "execution_count": 26,
   "metadata": {},
   "outputs": [],
   "source": [
    "def train(arch, size, item=Resize(480, method='squish'), accum=1, finetune=True, epochs=15):\n",
    "    dls = ImageDataLoaders.from_folder(trn_path, valid_pct=0.25, item_tfms=item,\n",
    "                                       batch_tfms=aug_transforms(size=size, min_scale=0.75), bs=64)\n",
    "\n",
    "    cbs = [EarlyStoppingCallback(min_delta=1e-4, patience=10), SaveModelCallback(monitor=\"valid_loss\")]\n",
    "    learn = vision_learner(dls, arch, metrics=[accuracy, error_rate], cbs=cbs).to_fp16()\n",
    "    learn.recorder.train_metrics = True\n",
    "    tst_files = get_image_files(path/'test').sorted()\n",
    "    if finetune:\n",
    "        learn.fine_tune(epochs, 0.01)\n",
    "        learn.recorder.plot_loss()\n",
    "        learn.recorder.plot_values()\n",
    "        learn.tta(dl=dls.test_dl(tst_files))\n",
    "    else:\n",
    "        learn.unfreeze()\n",
    "        learn.fit_one_cycle(epochs, 0.01)\n",
    "        learn.recorder.plot_loss()\n",
    "        learn.recorder.plot_values()\n",
    "\n",
    "    return learn, dls\n"
   ]
  },
  {
   "cell_type": "code",
   "execution_count": 27,
   "metadata": {},
   "outputs": [],
   "source": [
    "torch.cuda.empty_cache()"
   ]
  },
  {
   "cell_type": "code",
   "execution_count": 28,
   "metadata": {},
   "outputs": [
    {
     "name": "stdout",
     "output_type": "stream",
     "text": [
      "--- vit_tiny_patch16_224\n",
      "224\n",
      "Resize -- {'size': (480, 480), 'method': 'squish', 'pad_mode': 'reflection', 'resamples': (<Resampling.BILINEAR: 2>, <Resampling.NEAREST: 0>), 'p': 1.0}\n",
      "Due to IPython and Windows limitation, python multiprocessing isn't available now.\n",
      "So `number_workers` is changed to 0 to avoid getting stuck\n"
     ]
    },
    {
     "data": {
      "text/html": [
       "\n",
       "<style>\n",
       "    /* Turns off some styling */\n",
       "    progress {\n",
       "        /* gets rid of default border in Firefox and Opera. */\n",
       "        border: none;\n",
       "        /* Needs to be in here for Safari polyfill so background images work as expected. */\n",
       "        background-size: auto;\n",
       "    }\n",
       "    progress:not([value]), progress:not([value])::-webkit-progress-bar {\n",
       "        background: repeating-linear-gradient(45deg, #7e7e7e, #7e7e7e 10px, #5c5c5c 10px, #5c5c5c 20px);\n",
       "    }\n",
       "    .progress-bar-interrupted, .progress-bar-interrupted::-webkit-progress-bar {\n",
       "        background: #F44336;\n",
       "    }\n",
       "</style>\n"
      ],
      "text/plain": [
       "<IPython.core.display.HTML object>"
      ]
     },
     "metadata": {},
     "output_type": "display_data"
    },
    {
     "data": {
      "text/html": [
       "<table border=\"1\" class=\"dataframe\">\n",
       "  <thead>\n",
       "    <tr style=\"text-align: left;\">\n",
       "      <th>epoch</th>\n",
       "      <th>train_loss</th>\n",
       "      <th>train_accuracy</th>\n",
       "      <th>train_error_rate</th>\n",
       "      <th>valid_loss</th>\n",
       "      <th>valid_accuracy</th>\n",
       "      <th>valid_error_rate</th>\n",
       "      <th>time</th>\n",
       "    </tr>\n",
       "  </thead>\n",
       "  <tbody>\n",
       "    <tr>\n",
       "      <td>0</td>\n",
       "      <td>1.786523</td>\n",
       "      <td>0.397068</td>\n",
       "      <td>0.602932</td>\n",
       "      <td>0.930658</td>\n",
       "      <td>0.693750</td>\n",
       "      <td>0.306250</td>\n",
       "      <td>04:17</td>\n",
       "    </tr>\n",
       "  </tbody>\n",
       "</table>"
      ],
      "text/plain": [
       "<IPython.core.display.HTML object>"
      ]
     },
     "metadata": {},
     "output_type": "display_data"
    },
    {
     "name": "stdout",
     "output_type": "stream",
     "text": [
      "Better model found at epoch 0 with valid_loss value: 0.9306581616401672.\n"
     ]
    },
    {
     "data": {
      "text/html": [
       "\n",
       "<style>\n",
       "    /* Turns off some styling */\n",
       "    progress {\n",
       "        /* gets rid of default border in Firefox and Opera. */\n",
       "        border: none;\n",
       "        /* Needs to be in here for Safari polyfill so background images work as expected. */\n",
       "        background-size: auto;\n",
       "    }\n",
       "    progress:not([value]), progress:not([value])::-webkit-progress-bar {\n",
       "        background: repeating-linear-gradient(45deg, #7e7e7e, #7e7e7e 10px, #5c5c5c 10px, #5c5c5c 20px);\n",
       "    }\n",
       "    .progress-bar-interrupted, .progress-bar-interrupted::-webkit-progress-bar {\n",
       "        background: #F44336;\n",
       "    }\n",
       "</style>\n"
      ],
      "text/plain": [
       "<IPython.core.display.HTML object>"
      ]
     },
     "metadata": {},
     "output_type": "display_data"
    },
    {
     "data": {
      "text/html": [
       "<table border=\"1\" class=\"dataframe\">\n",
       "  <thead>\n",
       "    <tr style=\"text-align: left;\">\n",
       "      <th>epoch</th>\n",
       "      <th>train_loss</th>\n",
       "      <th>train_accuracy</th>\n",
       "      <th>train_error_rate</th>\n",
       "      <th>valid_loss</th>\n",
       "      <th>valid_accuracy</th>\n",
       "      <th>valid_error_rate</th>\n",
       "      <th>time</th>\n",
       "    </tr>\n",
       "  </thead>\n",
       "  <tbody>\n",
       "    <tr>\n",
       "      <td>0</td>\n",
       "      <td>1.031593</td>\n",
       "      <td>0.645457</td>\n",
       "      <td>0.354543</td>\n",
       "      <td>0.673705</td>\n",
       "      <td>0.778365</td>\n",
       "      <td>0.221635</td>\n",
       "      <td>04:58</td>\n",
       "    </tr>\n",
       "    <tr>\n",
       "      <td>1</td>\n",
       "      <td>0.891778</td>\n",
       "      <td>0.707152</td>\n",
       "      <td>0.292848</td>\n",
       "      <td>0.574945</td>\n",
       "      <td>0.809615</td>\n",
       "      <td>0.190385</td>\n",
       "      <td>04:59</td>\n",
       "    </tr>\n",
       "    <tr>\n",
       "      <td>2</td>\n",
       "      <td>0.781079</td>\n",
       "      <td>0.740496</td>\n",
       "      <td>0.259504</td>\n",
       "      <td>0.505530</td>\n",
       "      <td>0.830769</td>\n",
       "      <td>0.169231</td>\n",
       "      <td>05:01</td>\n",
       "    </tr>\n",
       "    <tr>\n",
       "      <td>3</td>\n",
       "      <td>0.662072</td>\n",
       "      <td>0.778028</td>\n",
       "      <td>0.221972</td>\n",
       "      <td>0.429868</td>\n",
       "      <td>0.853846</td>\n",
       "      <td>0.146154</td>\n",
       "      <td>04:57</td>\n",
       "    </tr>\n",
       "    <tr>\n",
       "      <td>4</td>\n",
       "      <td>0.573699</td>\n",
       "      <td>0.807345</td>\n",
       "      <td>0.192655</td>\n",
       "      <td>0.389357</td>\n",
       "      <td>0.862019</td>\n",
       "      <td>0.137981</td>\n",
       "      <td>04:55</td>\n",
       "    </tr>\n",
       "    <tr>\n",
       "      <td>5</td>\n",
       "      <td>0.487347</td>\n",
       "      <td>0.842461</td>\n",
       "      <td>0.157539</td>\n",
       "      <td>0.337194</td>\n",
       "      <td>0.883173</td>\n",
       "      <td>0.116827</td>\n",
       "      <td>04:55</td>\n",
       "    </tr>\n",
       "    <tr>\n",
       "      <td>6</td>\n",
       "      <td>0.458270</td>\n",
       "      <td>0.845039</td>\n",
       "      <td>0.154961</td>\n",
       "      <td>0.306715</td>\n",
       "      <td>0.905288</td>\n",
       "      <td>0.094712</td>\n",
       "      <td>04:55</td>\n",
       "    </tr>\n",
       "    <tr>\n",
       "      <td>7</td>\n",
       "      <td>0.403952</td>\n",
       "      <td>0.862919</td>\n",
       "      <td>0.137081</td>\n",
       "      <td>0.302736</td>\n",
       "      <td>0.900000</td>\n",
       "      <td>0.100000</td>\n",
       "      <td>04:54</td>\n",
       "    </tr>\n",
       "    <tr>\n",
       "      <td>8</td>\n",
       "      <td>0.385005</td>\n",
       "      <td>0.879349</td>\n",
       "      <td>0.120651</td>\n",
       "      <td>0.286640</td>\n",
       "      <td>0.911538</td>\n",
       "      <td>0.088462</td>\n",
       "      <td>04:55</td>\n",
       "    </tr>\n",
       "    <tr>\n",
       "      <td>9</td>\n",
       "      <td>0.333759</td>\n",
       "      <td>0.888692</td>\n",
       "      <td>0.111308</td>\n",
       "      <td>0.294898</td>\n",
       "      <td>0.912981</td>\n",
       "      <td>0.087019</td>\n",
       "      <td>05:01</td>\n",
       "    </tr>\n",
       "    <tr>\n",
       "      <td>10</td>\n",
       "      <td>0.306554</td>\n",
       "      <td>0.902062</td>\n",
       "      <td>0.097938</td>\n",
       "      <td>0.273205</td>\n",
       "      <td>0.920192</td>\n",
       "      <td>0.079808</td>\n",
       "      <td>04:59</td>\n",
       "    </tr>\n",
       "    <tr>\n",
       "      <td>11</td>\n",
       "      <td>0.287400</td>\n",
       "      <td>0.908183</td>\n",
       "      <td>0.091817</td>\n",
       "      <td>0.234821</td>\n",
       "      <td>0.936538</td>\n",
       "      <td>0.063462</td>\n",
       "      <td>04:55</td>\n",
       "    </tr>\n",
       "    <tr>\n",
       "      <td>12</td>\n",
       "      <td>0.243189</td>\n",
       "      <td>0.923164</td>\n",
       "      <td>0.076836</td>\n",
       "      <td>0.232588</td>\n",
       "      <td>0.930288</td>\n",
       "      <td>0.069712</td>\n",
       "      <td>04:56</td>\n",
       "    </tr>\n",
       "    <tr>\n",
       "      <td>13</td>\n",
       "      <td>0.232505</td>\n",
       "      <td>0.927191</td>\n",
       "      <td>0.072809</td>\n",
       "      <td>0.195487</td>\n",
       "      <td>0.945673</td>\n",
       "      <td>0.054327</td>\n",
       "      <td>04:55</td>\n",
       "    </tr>\n",
       "    <tr>\n",
       "      <td>14</td>\n",
       "      <td>0.226648</td>\n",
       "      <td>0.935084</td>\n",
       "      <td>0.064916</td>\n",
       "      <td>0.209043</td>\n",
       "      <td>0.944231</td>\n",
       "      <td>0.055769</td>\n",
       "      <td>04:55</td>\n",
       "    </tr>\n",
       "    <tr>\n",
       "      <td>15</td>\n",
       "      <td>0.185779</td>\n",
       "      <td>0.939272</td>\n",
       "      <td>0.060728</td>\n",
       "      <td>0.192978</td>\n",
       "      <td>0.945673</td>\n",
       "      <td>0.054327</td>\n",
       "      <td>04:56</td>\n",
       "    </tr>\n",
       "    <tr>\n",
       "      <td>16</td>\n",
       "      <td>0.173839</td>\n",
       "      <td>0.944265</td>\n",
       "      <td>0.055735</td>\n",
       "      <td>0.191891</td>\n",
       "      <td>0.949038</td>\n",
       "      <td>0.050962</td>\n",
       "      <td>04:56</td>\n",
       "    </tr>\n",
       "    <tr>\n",
       "      <td>17</td>\n",
       "      <td>0.165298</td>\n",
       "      <td>0.947487</td>\n",
       "      <td>0.052513</td>\n",
       "      <td>0.180948</td>\n",
       "      <td>0.952404</td>\n",
       "      <td>0.047596</td>\n",
       "      <td>04:55</td>\n",
       "    </tr>\n",
       "    <tr>\n",
       "      <td>18</td>\n",
       "      <td>0.162248</td>\n",
       "      <td>0.953286</td>\n",
       "      <td>0.046714</td>\n",
       "      <td>0.197795</td>\n",
       "      <td>0.948077</td>\n",
       "      <td>0.051923</td>\n",
       "      <td>04:55</td>\n",
       "    </tr>\n",
       "    <tr>\n",
       "      <td>19</td>\n",
       "      <td>0.137758</td>\n",
       "      <td>0.955380</td>\n",
       "      <td>0.044620</td>\n",
       "      <td>0.183581</td>\n",
       "      <td>0.950962</td>\n",
       "      <td>0.049038</td>\n",
       "      <td>04:55</td>\n",
       "    </tr>\n",
       "    <tr>\n",
       "      <td>20</td>\n",
       "      <td>0.135323</td>\n",
       "      <td>0.956669</td>\n",
       "      <td>0.043331</td>\n",
       "      <td>0.175776</td>\n",
       "      <td>0.952404</td>\n",
       "      <td>0.047596</td>\n",
       "      <td>04:55</td>\n",
       "    </tr>\n",
       "    <tr>\n",
       "      <td>21</td>\n",
       "      <td>0.116732</td>\n",
       "      <td>0.965367</td>\n",
       "      <td>0.034633</td>\n",
       "      <td>0.157185</td>\n",
       "      <td>0.959135</td>\n",
       "      <td>0.040865</td>\n",
       "      <td>04:55</td>\n",
       "    </tr>\n",
       "    <tr>\n",
       "      <td>22</td>\n",
       "      <td>0.110552</td>\n",
       "      <td>0.963918</td>\n",
       "      <td>0.036082</td>\n",
       "      <td>0.138306</td>\n",
       "      <td>0.961058</td>\n",
       "      <td>0.038942</td>\n",
       "      <td>04:55</td>\n",
       "    </tr>\n",
       "    <tr>\n",
       "      <td>23</td>\n",
       "      <td>0.096604</td>\n",
       "      <td>0.967784</td>\n",
       "      <td>0.032216</td>\n",
       "      <td>0.155413</td>\n",
       "      <td>0.961538</td>\n",
       "      <td>0.038462</td>\n",
       "      <td>04:55</td>\n",
       "    </tr>\n",
       "    <tr>\n",
       "      <td>24</td>\n",
       "      <td>0.105193</td>\n",
       "      <td>0.966656</td>\n",
       "      <td>0.033344</td>\n",
       "      <td>0.148340</td>\n",
       "      <td>0.963942</td>\n",
       "      <td>0.036058</td>\n",
       "      <td>04:56</td>\n",
       "    </tr>\n",
       "    <tr>\n",
       "      <td>25</td>\n",
       "      <td>0.086182</td>\n",
       "      <td>0.971972</td>\n",
       "      <td>0.028028</td>\n",
       "      <td>0.140054</td>\n",
       "      <td>0.963462</td>\n",
       "      <td>0.036538</td>\n",
       "      <td>04:55</td>\n",
       "    </tr>\n",
       "    <tr>\n",
       "      <td>26</td>\n",
       "      <td>0.075188</td>\n",
       "      <td>0.975193</td>\n",
       "      <td>0.024807</td>\n",
       "      <td>0.144972</td>\n",
       "      <td>0.963942</td>\n",
       "      <td>0.036058</td>\n",
       "      <td>04:55</td>\n",
       "    </tr>\n",
       "    <tr>\n",
       "      <td>27</td>\n",
       "      <td>0.079976</td>\n",
       "      <td>0.973099</td>\n",
       "      <td>0.026901</td>\n",
       "      <td>0.128566</td>\n",
       "      <td>0.967788</td>\n",
       "      <td>0.032212</td>\n",
       "      <td>04:55</td>\n",
       "    </tr>\n",
       "    <tr>\n",
       "      <td>28</td>\n",
       "      <td>0.067035</td>\n",
       "      <td>0.979381</td>\n",
       "      <td>0.020619</td>\n",
       "      <td>0.135436</td>\n",
       "      <td>0.970192</td>\n",
       "      <td>0.029808</td>\n",
       "      <td>04:55</td>\n",
       "    </tr>\n",
       "    <tr>\n",
       "      <td>29</td>\n",
       "      <td>0.066413</td>\n",
       "      <td>0.977771</td>\n",
       "      <td>0.022229</td>\n",
       "      <td>0.132454</td>\n",
       "      <td>0.970192</td>\n",
       "      <td>0.029808</td>\n",
       "      <td>04:55</td>\n",
       "    </tr>\n",
       "    <tr>\n",
       "      <td>30</td>\n",
       "      <td>0.052627</td>\n",
       "      <td>0.983731</td>\n",
       "      <td>0.016269</td>\n",
       "      <td>0.131402</td>\n",
       "      <td>0.973077</td>\n",
       "      <td>0.026923</td>\n",
       "      <td>04:55</td>\n",
       "    </tr>\n",
       "    <tr>\n",
       "      <td>31</td>\n",
       "      <td>0.053679</td>\n",
       "      <td>0.981314</td>\n",
       "      <td>0.018686</td>\n",
       "      <td>0.138115</td>\n",
       "      <td>0.967308</td>\n",
       "      <td>0.032692</td>\n",
       "      <td>04:55</td>\n",
       "    </tr>\n",
       "    <tr>\n",
       "      <td>32</td>\n",
       "      <td>0.053691</td>\n",
       "      <td>0.980992</td>\n",
       "      <td>0.019008</td>\n",
       "      <td>0.125928</td>\n",
       "      <td>0.971635</td>\n",
       "      <td>0.028365</td>\n",
       "      <td>04:56</td>\n",
       "    </tr>\n",
       "    <tr>\n",
       "      <td>33</td>\n",
       "      <td>0.049947</td>\n",
       "      <td>0.984697</td>\n",
       "      <td>0.015303</td>\n",
       "      <td>0.125381</td>\n",
       "      <td>0.971635</td>\n",
       "      <td>0.028365</td>\n",
       "      <td>04:55</td>\n",
       "    </tr>\n",
       "    <tr>\n",
       "      <td>34</td>\n",
       "      <td>0.039372</td>\n",
       "      <td>0.985986</td>\n",
       "      <td>0.014014</td>\n",
       "      <td>0.128419</td>\n",
       "      <td>0.971154</td>\n",
       "      <td>0.028846</td>\n",
       "      <td>04:55</td>\n",
       "    </tr>\n",
       "    <tr>\n",
       "      <td>35</td>\n",
       "      <td>0.042587</td>\n",
       "      <td>0.986147</td>\n",
       "      <td>0.013853</td>\n",
       "      <td>0.122857</td>\n",
       "      <td>0.971154</td>\n",
       "      <td>0.028846</td>\n",
       "      <td>04:55</td>\n",
       "    </tr>\n",
       "    <tr>\n",
       "      <td>36</td>\n",
       "      <td>0.043810</td>\n",
       "      <td>0.984697</td>\n",
       "      <td>0.015303</td>\n",
       "      <td>0.124789</td>\n",
       "      <td>0.972115</td>\n",
       "      <td>0.027885</td>\n",
       "      <td>04:55</td>\n",
       "    </tr>\n",
       "    <tr>\n",
       "      <td>37</td>\n",
       "      <td>0.042666</td>\n",
       "      <td>0.985986</td>\n",
       "      <td>0.014014</td>\n",
       "      <td>0.125078</td>\n",
       "      <td>0.972596</td>\n",
       "      <td>0.027404</td>\n",
       "      <td>04:55</td>\n",
       "    </tr>\n",
       "    <tr>\n",
       "      <td>38</td>\n",
       "      <td>0.045983</td>\n",
       "      <td>0.983409</td>\n",
       "      <td>0.016591</td>\n",
       "      <td>0.123625</td>\n",
       "      <td>0.973077</td>\n",
       "      <td>0.026923</td>\n",
       "      <td>04:55</td>\n",
       "    </tr>\n",
       "    <tr>\n",
       "      <td>39</td>\n",
       "      <td>0.037343</td>\n",
       "      <td>0.987436</td>\n",
       "      <td>0.012564</td>\n",
       "      <td>0.124869</td>\n",
       "      <td>0.972115</td>\n",
       "      <td>0.027885</td>\n",
       "      <td>04:57</td>\n",
       "    </tr>\n",
       "  </tbody>\n",
       "</table>"
      ],
      "text/plain": [
       "<IPython.core.display.HTML object>"
      ]
     },
     "metadata": {},
     "output_type": "display_data"
    },
    {
     "name": "stdout",
     "output_type": "stream",
     "text": [
      "Better model found at epoch 0 with valid_loss value: 0.6737046241760254.\n",
      "Better model found at epoch 1 with valid_loss value: 0.5749454498291016.\n",
      "Better model found at epoch 2 with valid_loss value: 0.505529522895813.\n",
      "Better model found at epoch 3 with valid_loss value: 0.42986753582954407.\n",
      "Better model found at epoch 4 with valid_loss value: 0.3893570601940155.\n",
      "Better model found at epoch 5 with valid_loss value: 0.3371937572956085.\n",
      "Better model found at epoch 6 with valid_loss value: 0.30671510100364685.\n",
      "Better model found at epoch 7 with valid_loss value: 0.3027356266975403.\n",
      "Better model found at epoch 8 with valid_loss value: 0.2866401970386505.\n",
      "Better model found at epoch 10 with valid_loss value: 0.27320539951324463.\n",
      "Better model found at epoch 11 with valid_loss value: 0.23482109606266022.\n",
      "Better model found at epoch 12 with valid_loss value: 0.2325877845287323.\n",
      "Better model found at epoch 13 with valid_loss value: 0.1954869031906128.\n",
      "Better model found at epoch 15 with valid_loss value: 0.19297781586647034.\n",
      "Better model found at epoch 16 with valid_loss value: 0.19189061224460602.\n",
      "Better model found at epoch 17 with valid_loss value: 0.18094755709171295.\n",
      "Better model found at epoch 20 with valid_loss value: 0.17577631771564484.\n",
      "Better model found at epoch 21 with valid_loss value: 0.1571854203939438.\n",
      "Better model found at epoch 22 with valid_loss value: 0.1383061558008194.\n",
      "Better model found at epoch 27 with valid_loss value: 0.12856616079807281.\n",
      "Better model found at epoch 32 with valid_loss value: 0.1259276270866394.\n",
      "Better model found at epoch 33 with valid_loss value: 0.12538066506385803.\n",
      "Better model found at epoch 35 with valid_loss value: 0.12285684794187546.\n"
     ]
    },
    {
     "data": {
      "text/html": [
       "\n",
       "<style>\n",
       "    /* Turns off some styling */\n",
       "    progress {\n",
       "        /* gets rid of default border in Firefox and Opera. */\n",
       "        border: none;\n",
       "        /* Needs to be in here for Safari polyfill so background images work as expected. */\n",
       "        background-size: auto;\n",
       "    }\n",
       "    progress:not([value]), progress:not([value])::-webkit-progress-bar {\n",
       "        background: repeating-linear-gradient(45deg, #7e7e7e, #7e7e7e 10px, #5c5c5c 10px, #5c5c5c 20px);\n",
       "    }\n",
       "    .progress-bar-interrupted, .progress-bar-interrupted::-webkit-progress-bar {\n",
       "        background: #F44336;\n",
       "    }\n",
       "</style>\n"
      ],
      "text/plain": [
       "<IPython.core.display.HTML object>"
      ]
     },
     "metadata": {},
     "output_type": "display_data"
    },
    {
     "data": {
      "text/html": [
       "\n",
       "    <div>\n",
       "      <progress value='0' class='' max='40' style='width:300px; height:20px; vertical-align: middle;'></progress>\n",
       "      \n",
       "    </div>\n",
       "    \n"
      ],
      "text/plain": [
       "<IPython.core.display.HTML object>"
      ]
     },
     "metadata": {},
     "output_type": "display_data"
    },
    {
     "data": {
      "text/html": [
       "\n",
       "<style>\n",
       "    /* Turns off some styling */\n",
       "    progress {\n",
       "        /* gets rid of default border in Firefox and Opera. */\n",
       "        border: none;\n",
       "        /* Needs to be in here for Safari polyfill so background images work as expected. */\n",
       "        background-size: auto;\n",
       "    }\n",
       "    progress:not([value]), progress:not([value])::-webkit-progress-bar {\n",
       "        background: repeating-linear-gradient(45deg, #7e7e7e, #7e7e7e 10px, #5c5c5c 10px, #5c5c5c 20px);\n",
       "    }\n",
       "    .progress-bar-interrupted, .progress-bar-interrupted::-webkit-progress-bar {\n",
       "        background: #F44336;\n",
       "    }\n",
       "</style>\n"
      ],
      "text/plain": [
       "<IPython.core.display.HTML object>"
      ]
     },
     "metadata": {},
     "output_type": "display_data"
    },
    {
     "data": {
      "text/html": [],
      "text/plain": [
       "<IPython.core.display.HTML object>"
      ]
     },
     "metadata": {},
     "output_type": "display_data"
    },
    {
     "data": {
      "image/png": "[encoded data removed]",
      "text/plain": [
       "<Figure size 432x288 with 1 Axes>"
      ]
     },
     "metadata": {
      "needs_background": "light"
     },
     "output_type": "display_data"
    },
    {
     "data": {
      "image/png": "[encoded data removed]",
      "text/plain": [
       "<Figure size 432x288 with 1 Axes>"
      ]
     },
     "metadata": {
      "needs_background": "light"
     },
     "output_type": "display_data"
    }
   ],
   "source": [
    "for arch,details in models.items():\n",
    "    for item,size in details:\n",
    "        print('---',arch)\n",
    "        print(size)\n",
    "        print(item.name)\n",
    "        \n",
    "        learn, dls = train(arch, size, item=item, finetune=True, accum=4, epochs=40)\n",
    "        learn.save(arch+\"_no_grad_accum\")\n",
    "        learn.export(\"models/\"+arch+\"_no_grad_accum.pkl\")\n",
    "\n",
    "        \n",
    "        gc.collect()\n",
    "        torch.cuda.empty_cache()"
   ]
  },
  {
   "cell_type": "code",
   "execution_count": 5,
   "metadata": {},
   "outputs": [
    {
     "name": "stdout",
     "output_type": "stream",
     "text": [
      "--- vit_tiny_patch16_224\n",
      "224\n",
      "Resize -- {'size': (480, 480), 'method': 'squish', 'pad_mode': 'reflection', 'resamples': (<Resampling.BILINEAR: 2>, <Resampling.NEAREST: 0>), 'p': 1.0}\n",
      "Due to IPython and Windows limitation, python multiprocessing isn't available now.\n",
      "So `number_workers` is changed to 0 to avoid getting stuck\n"
     ]
    }
   ],
   "source": [
    "models = {\n",
    "    'vit_tiny_patch16_224': {\n",
    "        (Resize(480, method='squish'), 224),\n",
    "    },\n",
    "}\n",
    "\n",
    "def train(arch, size, item=Resize(480, method='squish'), accum=1, finetune=True):\n",
    "    dls = ImageDataLoaders.from_folder(trn_path, valid_pct=0.25, item_tfms=item,\n",
    "        batch_tfms=aug_transforms(size=size, min_scale=0.75), bs=32//accum)\n",
    "    cbs = GradientAccumulation(64) if accum else []\n",
    "    learn = vision_learner(dls, arch, metrics=error_rate, cbs=cbs).to_fp16()\n",
    "\n",
    "    return learn, dls\n",
    "\n",
    "for arch,details in models.items():\n",
    "    for item,size in details:\n",
    "        print('---',arch)\n",
    "        print(size)\n",
    "        print(item.name)\n",
    "        \n",
    "        learn, dls = train(arch, size, item=item, finetune=True, accum=4)\n",
    "    \n",
    "        gc.collect()\n",
    "        torch.cuda.empty_cache()\n"
   ]
  },
  {
   "cell_type": "code",
   "execution_count": 6,
   "metadata": {},
   "outputs": [],
   "source": [
    "from fastai.text.all import * \n",
    "learner= learn.load(\"vit_tiny_patch16_224_no_grad_accum\")"
   ]
  },
  {
   "cell_type": "code",
   "execution_count": 11,
   "metadata": {},
   "outputs": [
    {
     "data": {
      "text/html": [
       "\n",
       "<style>\n",
       "    /* Turns off some styling */\n",
       "    progress {\n",
       "        /* gets rid of default border in Firefox and Opera. */\n",
       "        border: none;\n",
       "        /* Needs to be in here for Safari polyfill so background images work as expected. */\n",
       "        background-size: auto;\n",
       "    }\n",
       "    progress:not([value]), progress:not([value])::-webkit-progress-bar {\n",
       "        background: repeating-linear-gradient(45deg, #7e7e7e, #7e7e7e 10px, #5c5c5c 10px, #5c5c5c 20px);\n",
       "    }\n",
       "    .progress-bar-interrupted, .progress-bar-interrupted::-webkit-progress-bar {\n",
       "        background: #F44336;\n",
       "    }\n",
       "</style>\n"
      ],
      "text/plain": [
       "<IPython.core.display.HTML object>"
      ]
     },
     "metadata": {},
     "output_type": "display_data"
    },
    {
     "data": {
      "text/html": [],
      "text/plain": [
       "<IPython.core.display.HTML object>"
      ]
     },
     "metadata": {},
     "output_type": "display_data"
    }
   ],
   "source": [
    "interpret = ClassificationInterpretation.from_learner(learner)"
   ]
  },
  {
   "cell_type": "code",
   "execution_count": 33,
   "metadata": {},
   "outputs": [
    {
     "data": {
      "text/html": [
       "\n",
       "<style>\n",
       "    /* Turns off some styling */\n",
       "    progress {\n",
       "        /* gets rid of default border in Firefox and Opera. */\n",
       "        border: none;\n",
       "        /* Needs to be in here for Safari polyfill so background images work as expected. */\n",
       "        background-size: auto;\n",
       "    }\n",
       "    progress:not([value]), progress:not([value])::-webkit-progress-bar {\n",
       "        background: repeating-linear-gradient(45deg, #7e7e7e, #7e7e7e 10px, #5c5c5c 10px, #5c5c5c 20px);\n",
       "    }\n",
       "    .progress-bar-interrupted, .progress-bar-interrupted::-webkit-progress-bar {\n",
       "        background: #F44336;\n",
       "    }\n",
       "</style>\n"
      ],
      "text/plain": [
       "<IPython.core.display.HTML object>"
      ]
     },
     "metadata": {},
     "output_type": "display_data"
    },
    {
     "data": {
      "text/html": [],
      "text/plain": [
       "<IPython.core.display.HTML object>"
      ]
     },
     "metadata": {},
     "output_type": "display_data"
    },
    {
     "name": "stdout",
     "output_type": "stream",
     "text": [
      "                          precision    recall  f1-score   support\n",
      "\n",
      "   bacterial_leaf_blight       0.97      0.94      0.95        97\n",
      "   bacterial_leaf_streak       0.98      0.94      0.96        67\n",
      "bacterial_panicle_blight       0.97      0.94      0.95        62\n",
      "                   blast       0.96      0.99      0.97       340\n",
      "              brown_spot       0.94      0.97      0.96       190\n",
      "              dead_heart       1.00      0.99      1.00       318\n",
      "            downy_mildew       0.93      0.88      0.90       129\n",
      "                   hispa       0.97      0.98      0.97       304\n",
      "                  normal       0.98      0.99      0.99       349\n",
      "                  tungro       0.99      0.97      0.98       224\n",
      "\n",
      "                accuracy                           0.97      2080\n",
      "               macro avg       0.97      0.96      0.96      2080\n",
      "            weighted avg       0.97      0.97      0.97      2080\n",
      "\n"
     ]
    }
   ],
   "source": [
    "interpret.print_classification_report()"
   ]
  },
  {
   "cell_type": "code",
   "execution_count": 16,
   "metadata": {},
   "outputs": [
    {
     "data": {
      "text/html": [
       "\n",
       "<style>\n",
       "    /* Turns off some styling */\n",
       "    progress {\n",
       "        /* gets rid of default border in Firefox and Opera. */\n",
       "        border: none;\n",
       "        /* Needs to be in here for Safari polyfill so background images work as expected. */\n",
       "        background-size: auto;\n",
       "    }\n",
       "    progress:not([value]), progress:not([value])::-webkit-progress-bar {\n",
       "        background: repeating-linear-gradient(45deg, #7e7e7e, #7e7e7e 10px, #5c5c5c 10px, #5c5c5c 20px);\n",
       "    }\n",
       "    .progress-bar-interrupted, .progress-bar-interrupted::-webkit-progress-bar {\n",
       "        background: #F44336;\n",
       "    }\n",
       "</style>\n"
      ],
      "text/plain": [
       "<IPython.core.display.HTML object>"
      ]
     },
     "metadata": {},
     "output_type": "display_data"
    },
    {
     "data": {
      "text/html": [],
      "text/plain": [
       "<IPython.core.display.HTML object>"
      ]
     },
     "metadata": {},
     "output_type": "display_data"
    },
    {
     "data": {
      "image/png": "[encoded data removed]",
      "text/plain": [
       "<Figure size 432x288 with 1 Axes>"
      ]
     },
     "metadata": {
      "needs_background": "light"
     },
     "output_type": "display_data"
    }
   ],
   "source": [
    "interpret.plot_confusion_matrix(title=\"vit_tiny_patch16_224_no_grad_accum\")"
   ]
  },
  {
   "cell_type": "code",
   "execution_count": 7,
   "metadata": {},
   "outputs": [
    {
     "name": "stdout",
     "output_type": "stream",
     "text": [
      "Due to IPython and Windows limitation, python multiprocessing isn't available now.\n",
      "So `number_workers` is changed to 0 to avoid getting stuck\n"
     ]
    }
   ],
   "source": [
    "for arch,details in models.items():\n",
    "    for item,size in details:        \n",
    "        dls = ImageDataLoaders.from_folder(trn_path, valid_pct=0.25, item_tfms=item,\n",
    "                batch_tfms=aug_transforms(size=size, min_scale=0.75), bs=32//4)\n",
    "        tst_files = get_image_files(path/'test').sorted()\n",
    "        tst_dl = dls.test_dl(tst_files, with_labels=True, num_workers=0)\n",
    "        tst_dl"
   ]
  },
  {
   "cell_type": "code",
   "execution_count": 14,
   "metadata": {},
   "outputs": [
    {
     "data": {
      "text/html": [
       "\n",
       "<style>\n",
       "    /* Turns off some styling */\n",
       "    progress {\n",
       "        /* gets rid of default border in Firefox and Opera. */\n",
       "        border: none;\n",
       "        /* Needs to be in here for Safari polyfill so background images work as expected. */\n",
       "        background-size: auto;\n",
       "    }\n",
       "    progress:not([value]), progress:not([value])::-webkit-progress-bar {\n",
       "        background: repeating-linear-gradient(45deg, #7e7e7e, #7e7e7e 10px, #5c5c5c 10px, #5c5c5c 20px);\n",
       "    }\n",
       "    .progress-bar-interrupted, .progress-bar-interrupted::-webkit-progress-bar {\n",
       "        background: #F44336;\n",
       "    }\n",
       "</style>\n"
      ],
      "text/plain": [
       "<IPython.core.display.HTML object>"
      ]
     },
     "metadata": {},
     "output_type": "display_data"
    },
    {
     "data": {
      "text/html": [],
      "text/plain": [
       "<IPython.core.display.HTML object>"
      ]
     },
     "metadata": {},
     "output_type": "display_data"
    },
    {
     "name": "stdout",
     "output_type": "stream",
     "text": [
      "The accuracy is 0.8848368525505066 %.\n"
     ]
    }
   ],
   "source": [
    "acc = accuracy(*learner.get_preds(dl=tst_dl))\n",
    "print('The accuracy is {0} %.'.format(acc))"
   ]
  },
  {
   "cell_type": "code",
   "execution_count": null,
   "metadata": {},
   "outputs": [
    {
     "data": {
      "text/plain": [
       "['bacterial_leaf_blight', 'bacterial_leaf_streak', 'bacterial_panicle_blight', 'blast', 'brown_spot', 'dead_heart', 'downy_mildew', 'hispa', 'normal', 'tungro']"
      ]
     },
     "execution_count": 24,
     "metadata": {},
     "output_type": "execute_result"
    }
   ],
   "source": [
    "dls.vocab"
   ]
  }
 ],
 "metadata": {
  "kernelspec": {
   "display_name": "Python 3.8.1 64-bit",
   "language": "python",
   "name": "python3"
  },
  "language_info": {
   "codemirror_mode": {
    "name": "ipython",
    "version": 3
   },
   "file_extension": ".py",
   "mimetype": "text/x-python",
   "name": "python",
   "nbconvert_exporter": "python",
   "pygments_lexer": "ipython3",
   "version": "3.8.1 (tags/v3.8.1:1b293b6, Dec 18 2019, 23:11:46) [MSC v.1916 64 bit (AMD64)]"
  },
  "orig_nbformat": 4,
  "vscode": {
   "interpreter": {
    "hash": "e8e103f1427e845b325d32d1d1b7a680a975242c9df6a2c0532359a1c20fb4b0"
   }
  }
 },
 "nbformat": 4,
 "nbformat_minor": 2
}
